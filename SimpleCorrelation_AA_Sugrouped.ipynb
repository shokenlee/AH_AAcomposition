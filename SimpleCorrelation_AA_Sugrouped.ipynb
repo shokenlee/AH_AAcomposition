{
 "cells": [
  {
   "cell_type": "code",
   "execution_count": null,
   "metadata": {},
   "outputs": [],
   "source": [
    "import pandas as pd\n",
    "import matplotlib.pyplot as plt\n",
    "import seaborn as sns\n",
    "from matplotlib.backends.backend_pdf import PdfPages"
   ]
  },
  {
   "cell_type": "code",
   "execution_count": null,
   "metadata": {},
   "outputs": [],
   "source": [
    "df = pd.read_csv('./Output/NEES_summary_with_heliquest.csv')"
   ]
  },
  {
   "cell_type": "code",
   "execution_count": null,
   "metadata": {},
   "outputs": [
    {
     "name": "stdout",
     "output_type": "stream",
     "text": [
      "Index(['AA_seq', 'AH', 'Median', 'Mean', 'Organelle', 'NEES_binned', 'phil_A',\n",
      "       'phob_A', 'phil_G', 'phob_G', 'phil_V', 'phob_V', 'phil_L', 'phob_L',\n",
      "       'phil_I', 'phob_I', 'phil_F', 'phob_F', 'phil_W', 'phob_W', 'phil_M',\n",
      "       'phob_M', 'phil_Y', 'phob_Y', 'phil_C', 'phob_C', 'phil_S', 'phob_S',\n",
      "       'phil_T', 'phob_T', 'phil_R', 'phob_R', 'phil_K', 'phob_K', 'phil_N',\n",
      "       'phob_N', 'phil_Q', 'phob_Q', 'phil_D', 'phob_D', 'phil_E', 'phob_E',\n",
      "       'phil_H', 'phob_H', 'phil_P', 'phob_P', 'Length', 'Hydrophobicity',\n",
      "       'H_moment', 'Netcharge', 'Dfactor'],\n",
      "      dtype='object')\n"
     ]
    }
   ],
   "source": [
    "print(df.columns)"
   ]
  },
  {
   "cell_type": "code",
   "execution_count": null,
   "metadata": {},
   "outputs": [],
   "source": [
    "# Function to plot each graph\n",
    "def plot_correlation(df, x, y, ax):\n",
    "    correlation_coefficient = df[x].corr(df[y])\n",
    "    \n",
    "    sns.scatterplot(x=df[x], y=df[y], ax=ax)\n",
    "    ax.set_xlabel(x)\n",
    "    ax.set_ylabel(y)\n",
    "    ax.set_title(f'Correlation between {x} and {y}')\n",
    "    \n",
    "    # Annotate the correlation coefficient\n",
    "    ax.text(0.95, 0.7, f'Corr. Coeff.: {correlation_coefficient:.2f}', \n",
    "            transform=ax.transAxes, fontsize=12, verticalalignment='bottom', \n",
    "            horizontalalignment='right', bbox=dict(facecolor='white', alpha=0.5))"
   ]
  },
  {
   "cell_type": "code",
   "execution_count": null,
   "metadata": {},
   "outputs": [],
   "source": [
    "# Combining and summing the specified pairs of predictors\n",
    "df = df.copy()\n",
    "df['phil_S_T'] = df['phil_S'] + df['phil_T']\n",
    "df['phil_R_K'] = df['phil_R'] + df['phil_K']\n",
    "df['phil_L_I'] = df['phil_L'] + df['phil_I']\n",
    "df['phil_F_W'] = df['phil_F'] + df['phil_W']\n",
    "df['phil_M_C'] = df['phil_M'] + df['phil_C']\n",
    "df['phil_D_E'] = df['phil_D'] + df['phil_E']\n",
    "df['phil_N_Q'] = df['phil_N'] + df['phil_Q']\n",
    "\n",
    "# New set of combined predictors\n",
    "x_columns = ['phil_S_T', 'phil_R_K', 'phil_L_I', 'phil_F_W', 'phil_M_C', 'phil_D_E', 'phil_N_Q', \n",
    "                       'phil_A', 'phil_G', 'phil_V', 'phil_Y', 'phil_H', 'phil_P']\n",
    "\n",
    "y_column = 'Median'\n",
    "\n",
    "# Generate the plots and save them to a single PDF file with 6 graphs per page\n",
    "with PdfPages('./Output/correlation_plots_phil_AAsubgrouped.pdf') as pdf:\n",
    "    for i in range(0, len(x_columns), 6):\n",
    "        fig, axes = plt.subplots(2, 3, figsize=(20, 12))  # Create a 2x3 grid\n",
    "        axes = axes.flatten()  # Flatten the 2D array of axes\n",
    "        for ax, x in zip(axes, x_columns[i:i+6]):\n",
    "            plot_correlation(df, x, y_column, ax)\n",
    "        for ax in axes[len(x_columns[i:i+6]):]:\n",
    "            ax.remove()  # Remove any unused axes\n",
    "        pdf.savefig(fig)  # Save the current figure to the PDF\n",
    "        plt.close(fig)  # Close the figure to free memory"
   ]
  }
 ],
 "metadata": {
  "language_info": {
   "name": "python"
  }
 },
 "nbformat": 4,
 "nbformat_minor": 2
}
