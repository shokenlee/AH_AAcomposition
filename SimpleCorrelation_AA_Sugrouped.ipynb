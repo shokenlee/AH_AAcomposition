{
 "cells": [
  {
   "cell_type": "code",
   "execution_count": 1,
   "metadata": {},
   "outputs": [],
   "source": [
    "import pandas as pd\n",
    "import matplotlib.pyplot as plt\n",
    "import seaborn as sns\n",
    "from matplotlib.backends.backend_pdf import PdfPages"
   ]
  },
  {
   "cell_type": "code",
   "execution_count": 2,
   "metadata": {},
   "outputs": [],
   "source": [
    "df = pd.read_csv('./Output/NEES_summary_with_heliquest.csv')"
   ]
  },
  {
   "cell_type": "code",
   "execution_count": 3,
   "metadata": {},
   "outputs": [
    {
     "name": "stdout",
     "output_type": "stream",
     "text": [
      "Index(['AA_seq', 'AH', 'Median', 'Mean', 'Organelle', 'NEES_binned', 'phil_A',\n",
      "       'phob_A', 'phil_G', 'phob_G', 'phil_V', 'phob_V', 'phil_L', 'phob_L',\n",
      "       'phil_I', 'phob_I', 'phil_F', 'phob_F', 'phil_W', 'phob_W', 'phil_M',\n",
      "       'phob_M', 'phil_Y', 'phob_Y', 'phil_C', 'phob_C', 'phil_S', 'phob_S',\n",
      "       'phil_T', 'phob_T', 'phil_R', 'phob_R', 'phil_K', 'phob_K', 'phil_N',\n",
      "       'phob_N', 'phil_Q', 'phob_Q', 'phil_D', 'phob_D', 'phil_E', 'phob_E',\n",
      "       'phil_H', 'phob_H', 'phil_P', 'phob_P', 'Length', 'Hydrophobicity',\n",
      "       'H_moment', 'Netcharge', 'Dfactor', 'phil_S_T', 'phil_R_K', 'phil_L_I',\n",
      "       'phil_F_W', 'phil_M_C', 'phil_D_E', 'phil_N_Q', 'phob_S_T', 'phob_R_K',\n",
      "       'phob_L_I', 'phob_F_W', 'phob_M_C', 'phob_D_E', 'phob_N_Q'],\n",
      "      dtype='object')\n"
     ]
    }
   ],
   "source": [
    "print(df.columns)"
   ]
  },
  {
   "cell_type": "code",
   "execution_count": 4,
   "metadata": {},
   "outputs": [],
   "source": [
    "# Function to plot each graph\n",
    "def plot_correlation(df, x, y, ax):\n",
    "    correlation_coefficient = df[x].corr(df[y])\n",
    "    \n",
    "    sns.scatterplot(x=df[x], y=df[y], ax=ax)\n",
    "    ax.set_xlabel(x)\n",
    "    ax.set_ylabel(y)\n",
    "    ax.set_title(f'Correlation between {x} and {y}')\n",
    "    \n",
    "    # Annotate the correlation coefficient\n",
    "    ax.text(0.95, 0.7, f'Corr. Coeff.: {correlation_coefficient:.2f}', \n",
    "            transform=ax.transAxes, fontsize=12, verticalalignment='bottom', \n",
    "            horizontalalignment='right', bbox=dict(facecolor='white', alpha=0.5))"
   ]
  },
  {
   "cell_type": "code",
   "execution_count": 5,
   "metadata": {},
   "outputs": [],
   "source": [
    "# New set of combined predictors\n",
    "x_columns = ['phil_S_T', 'phil_R_K', 'phil_L_I', 'phil_F_W', 'phil_M_C', 'phil_D_E', 'phil_N_Q', \n",
    "                       'phil_A', 'phil_G', 'phil_V', 'phil_Y', 'phil_H', 'phil_P']\n",
    "\n",
    "y_column = 'Median'\n",
    "\n",
    "# Generate the plots and save them to a single PDF file with 6 graphs per page\n",
    "with PdfPages('./Output/correlation_plots_phil_AAsubgrouped.pdf') as pdf:\n",
    "    for i in range(0, len(x_columns), 6):\n",
    "        fig, axes = plt.subplots(2, 3, figsize=(20, 12))  # Create a 2x3 grid\n",
    "        axes = axes.flatten()  # Flatten the 2D array of axes\n",
    "        for ax, x in zip(axes, x_columns[i:i+6]):\n",
    "            plot_correlation(df, x, y_column, ax)\n",
    "        for ax in axes[len(x_columns[i:i+6]):]:\n",
    "            ax.remove()  # Remove any unused axes\n",
    "        pdf.savefig(fig)  # Save the current figure to the PDF\n",
    "        plt.close(fig)  # Close the figure to free memory"
   ]
  },
  {
   "cell_type": "code",
   "execution_count": 6,
   "metadata": {},
   "outputs": [],
   "source": [
    "# New set of combined predictors\n",
    "x_columns = ['phob_S_T', 'phob_R_K', 'phob_L_I', 'phob_F_W', 'phob_M_C', 'phob_D_E', 'phob_N_Q', \n",
    "                       'phob_A', 'phob_G', 'phob_V', 'phob_Y', 'phob_H', 'phob_P']\n",
    "\n",
    "y_column = 'Median'\n",
    "\n",
    "# Generate the plots and save them to a single PDF file with 6 graphs per page\n",
    "with PdfPages('./Output/correlation_plots_phob_AAsubgrouped.pdf') as pdf:\n",
    "    for i in range(0, len(x_columns), 6):\n",
    "        fig, axes = plt.subplots(2, 3, figsize=(20, 12))  # Create a 2x3 grid\n",
    "        axes = axes.flatten()  # Flatten the 2D array of axes\n",
    "        for ax, x in zip(axes, x_columns[i:i+6]):\n",
    "            plot_correlation(df, x, y_column, ax)\n",
    "        for ax in axes[len(x_columns[i:i+6]):]:\n",
    "            ax.remove()  # Remove any unused axes\n",
    "        pdf.savefig(fig)  # Save the current figure to the PDF\n",
    "        plt.close(fig)  # Close the figure to free memory"
   ]
  },
  {
   "cell_type": "code",
   "execution_count": null,
   "metadata": {},
   "outputs": [],
   "source": []
  }
 ],
 "metadata": {
  "kernelspec": {
   "display_name": "py312",
   "language": "python",
   "name": "python3"
  },
  "language_info": {
   "codemirror_mode": {
    "name": "ipython",
    "version": 3
   },
   "file_extension": ".py",
   "mimetype": "text/x-python",
   "name": "python",
   "nbconvert_exporter": "python",
   "pygments_lexer": "ipython3",
   "version": "3.12.9"
  }
 },
 "nbformat": 4,
 "nbformat_minor": 2
}
