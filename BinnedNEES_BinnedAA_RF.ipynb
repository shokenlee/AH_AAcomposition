{
 "cells": [
  {
   "cell_type": "code",
   "execution_count": 1,
   "metadata": {},
   "outputs": [],
   "source": [
    "import pandas as pd"
   ]
  },
  {
   "cell_type": "code",
   "execution_count": 2,
   "metadata": {},
   "outputs": [],
   "source": [
    "from sklearn.ensemble import RandomForestClassifier\n",
    "from sklearn.preprocessing import LabelEncoder"
   ]
  },
  {
   "cell_type": "code",
   "execution_count": 3,
   "metadata": {},
   "outputs": [],
   "source": [
    "df = pd.read_csv('./Output/NEES_summary_with_heliquest.csv')"
   ]
  },
  {
   "cell_type": "code",
   "execution_count": 4,
   "metadata": {},
   "outputs": [
    {
     "name": "stdout",
     "output_type": "stream",
     "text": [
      "Index(['AA_seq', 'AH', 'Median', 'Mean', 'Organelle', 'NEES_binned', 'phil_A',\n",
      "       'phob_A', 'phil_G', 'phob_G', 'phil_V', 'phob_V', 'phil_L', 'phob_L',\n",
      "       'phil_I', 'phob_I', 'phil_F', 'phob_F', 'phil_W', 'phob_W', 'phil_M',\n",
      "       'phob_M', 'phil_Y', 'phob_Y', 'phil_C', 'phob_C', 'phil_S', 'phob_S',\n",
      "       'phil_T', 'phob_T', 'phil_R', 'phob_R', 'phil_K', 'phob_K', 'phil_N',\n",
      "       'phob_N', 'phil_Q', 'phob_Q', 'phil_D', 'phob_D', 'phil_E', 'phob_E',\n",
      "       'phil_H', 'phob_H', 'phil_P', 'phob_P', 'Length', 'Hydrophobicity',\n",
      "       'H_moment', 'Netcharge', 'Dfactor', 'phil_S_T', 'phil_R_K', 'phil_L_I',\n",
      "       'phil_F_W', 'phil_M_C', 'phil_D_E', 'phil_N_Q', 'phob_S_T', 'phob_R_K',\n",
      "       'phob_L_I', 'phob_F_W', 'phob_M_C', 'phob_D_E', 'phob_N_Q'],\n",
      "      dtype='object')\n"
     ]
    }
   ],
   "source": [
    "print(df.columns)"
   ]
  },
  {
   "cell_type": "code",
   "execution_count": 5,
   "metadata": {},
   "outputs": [],
   "source": [
    "# column definitions\n",
    "columns_heliquet =  df.columns[-5:]\n",
    "# print(columns_heliquet)\n",
    "columns_AAcomp = df.columns[6:-5]\n",
    "# print(columns_AAcomp)\n",
    "columns_AAcomp_phil = columns_AAcomp[list(range(0, len(columns_AAcomp), 2))]\n",
    "# print(columns_AAcomp_phil)\n",
    "columns_AAcomp_phob = columns_AAcomp[list(range(1, len(columns_AAcomp), 2))]\n",
    "# print(columns_AAcomp_phob)"
   ]
  },
  {
   "cell_type": "markdown",
   "metadata": {},
   "source": [
    "#### Random Forest Classifier: seperately for each face or combined"
   ]
  },
  {
   "cell_type": "code",
   "execution_count": null,
   "metadata": {},
   "outputs": [
    {
     "data": {
      "text/plain": [
       "phil_S_T    0.156512\n",
       "phil_N_Q    0.114198\n",
       "phil_R_K    0.107212\n",
       "phil_D_E    0.099923\n",
       "phil_H      0.094943\n",
       "phil_A      0.081300\n",
       "phil_G      0.078142\n",
       "phil_L_I    0.071797\n",
       "phil_F_W    0.046522\n",
       "phil_Y      0.045027\n",
       "phil_V      0.038576\n",
       "phil_P      0.038414\n",
       "phil_M_C    0.027434\n",
       "dtype: float64"
      ]
     },
     "execution_count": 6,
     "metadata": {},
     "output_type": "execute_result"
    }
   ],
   "source": [
    "# Selecting hydrophilic face composition\n",
    "x_columns = ['phil_S_T', 'phil_R_K', 'phil_L_I', 'phil_F_W', 'phil_M_C', 'phil_D_E', 'phil_N_Q', \n",
    "                       'phil_A', 'phil_G', 'phil_V', 'phil_Y', 'phil_H', 'phil_P']\n",
    "\n",
    "# Prepare features and target variable for training the Random Forest Classifier\n",
    "X_train = df[x_columns]\n",
    "label_encoder = LabelEncoder()\n",
    "y_encoded = label_encoder.fit_transform(df['NEES_binned'])\n",
    "\n",
    "# Train a Random Forest Classifier with the combined predictors\n",
    "rf_classifier_combined = RandomForestClassifier(n_estimators=100, random_state=0)\n",
    "rf_classifier_combined.fit(X_train, y_encoded)\n",
    "\n",
    "# Get feature importances from the classifier\n",
    "importances_combined = rf_classifier_combined.feature_importances_\n",
    "feature_importance_combined = pd.Series(importances_combined, index=x_columns).sort_values(ascending=False)\n",
    "\n",
    "# Select significant features based on a threshold\n",
    "significant_features_combined = feature_importance_combined[feature_importance_combined >= 0.01]\n",
    "\n",
    "significant_features_combined"
   ]
  },
  {
   "cell_type": "code",
   "execution_count": 9,
   "metadata": {},
   "outputs": [
    {
     "data": {
      "text/plain": [
       "phob_L_I    0.152346\n",
       "phob_F_W    0.136498\n",
       "phob_V      0.109968\n",
       "phob_S_T    0.108366\n",
       "phob_M_C    0.083550\n",
       "phob_R_K    0.071281\n",
       "phob_G      0.064753\n",
       "phob_D_E    0.055836\n",
       "phob_A      0.053663\n",
       "phob_N_Q    0.046958\n",
       "phob_H      0.043855\n",
       "phob_P      0.038031\n",
       "phob_Y      0.034895\n",
       "dtype: float64"
      ]
     },
     "execution_count": 9,
     "metadata": {},
     "output_type": "execute_result"
    }
   ],
   "source": [
    "# Selecting hydrophobic face composition\n",
    "x_columns = ['phob_S_T', 'phob_R_K', 'phob_L_I', 'phob_F_W', 'phob_M_C', 'phob_D_E', 'phob_N_Q', \n",
    "                       'phob_A', 'phob_G', 'phob_V', 'phob_Y', 'phob_H', 'phob_P']\n",
    "\n",
    "# Prepare features and target variable for training the Random Forest Classifier\n",
    "X_train = df[x_columns]\n",
    "label_encoder = LabelEncoder()\n",
    "y_encoded = label_encoder.fit_transform(df['NEES_binned'])\n",
    "\n",
    "# Train a Random Forest Classifier with the combined predictors\n",
    "rf_classifier_combined = RandomForestClassifier(n_estimators=100, random_state=0)\n",
    "rf_classifier_combined.fit(X_train, y_encoded)\n",
    "\n",
    "# Get feature importances from the classifier\n",
    "importances_combined = rf_classifier_combined.feature_importances_\n",
    "feature_importance_combined = pd.Series(importances_combined, index=x_columns).sort_values(ascending=False)\n",
    "\n",
    "# Select significant features based on a threshold\n",
    "significant_features_combined = feature_importance_combined[feature_importance_combined >= 0.01]\n",
    "\n",
    "significant_features_combined"
   ]
  },
  {
   "cell_type": "code",
   "execution_count": 13,
   "metadata": {},
   "outputs": [
    {
     "name": "stdout",
     "output_type": "stream",
     "text": [
      "phil_S_T    0.103356\n",
      "phob_L_I    0.087421\n",
      "phob_V      0.067793\n",
      "phob_F_W    0.066133\n",
      "phil_H      0.057881\n",
      "phil_N_Q    0.053936\n",
      "phil_R_K    0.050912\n",
      "phob_S_T    0.049045\n",
      "phil_G      0.041748\n",
      "phil_A      0.040160\n",
      "phil_D_E    0.039091\n",
      "phob_M_C    0.034465\n",
      "phil_Y      0.033398\n",
      "phil_L_I    0.031741\n",
      "phob_R_K    0.031367\n",
      "phob_D_E    0.027215\n",
      "phil_M_C    0.023773\n",
      "phob_G      0.023555\n",
      "phil_F_W    0.021939\n",
      "phob_Y      0.018513\n",
      "phob_A      0.018326\n",
      "phob_P      0.017678\n",
      "phob_N_Q    0.017135\n",
      "phil_V      0.016096\n",
      "phil_P      0.014476\n",
      "phob_H      0.012846\n",
      "dtype: float64\n"
     ]
    }
   ],
   "source": [
    "# Both faces\n",
    "x_columns = ['phil_S_T', 'phil_R_K', 'phil_L_I', 'phil_F_W', 'phil_M_C', 'phil_D_E', 'phil_N_Q', \n",
    "                       'phil_A', 'phil_G', 'phil_V', 'phil_Y', 'phil_H', 'phil_P'] + ['phob_S_T', 'phob_R_K', 'phob_L_I', 'phob_F_W', 'phob_M_C', 'phob_D_E', 'phob_N_Q', \n",
    "                       'phob_A', 'phob_G', 'phob_V', 'phob_Y', 'phob_H', 'phob_P']\n",
    "\n",
    "# Prepare features and target variable for training the Random Forest Classifier\n",
    "X_train = df[x_columns]\n",
    "label_encoder = LabelEncoder()\n",
    "y_encoded = label_encoder.fit_transform(df['NEES_binned'])\n",
    "\n",
    "# Train a Random Forest Classifier with the combined predictors\n",
    "rf_classifier_combined = RandomForestClassifier(n_estimators=100, random_state=0)\n",
    "rf_classifier_combined.fit(X_train, y_encoded)\n",
    "\n",
    "# Get feature importances from the classifier\n",
    "importances_combined = rf_classifier_combined.feature_importances_\n",
    "feature_importance_combined = pd.Series(importances_combined, index=x_columns).sort_values(ascending=False)\n",
    "\n",
    "# Select significant features based on a threshold\n",
    "significant_features_combined = feature_importance_combined[feature_importance_combined >= 0.01]\n",
    "print(significant_features_combined)\n",
    "\n",
    "significant_features_combined.to_csv('Output/RF_FeatureSignificance.csv', index=True)"
   ]
  },
  {
   "cell_type": "code",
   "execution_count": null,
   "metadata": {},
   "outputs": [],
   "source": []
  }
 ],
 "metadata": {
  "kernelspec": {
   "display_name": "py312",
   "language": "python",
   "name": "python3"
  },
  "language_info": {
   "codemirror_mode": {
    "name": "ipython",
    "version": 3
   },
   "file_extension": ".py",
   "mimetype": "text/x-python",
   "name": "python",
   "nbconvert_exporter": "python",
   "pygments_lexer": "ipython3",
   "version": "3.12.9"
  }
 },
 "nbformat": 4,
 "nbformat_minor": 2
}
