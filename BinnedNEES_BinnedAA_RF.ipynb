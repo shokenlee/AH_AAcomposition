{
 "cells": [
  {
   "cell_type": "code",
   "execution_count": 3,
   "metadata": {},
   "outputs": [],
   "source": [
    "import pandas as pd"
   ]
  },
  {
   "cell_type": "code",
   "execution_count": 4,
   "metadata": {},
   "outputs": [],
   "source": [
    "from sklearn.ensemble import RandomForestClassifier\n",
    "from sklearn.preprocessing import LabelEncoder"
   ]
  },
  {
   "cell_type": "code",
   "execution_count": 5,
   "metadata": {},
   "outputs": [],
   "source": [
    "df = pd.read_csv('./Output/NEES_summary_with_heliquest.csv')"
   ]
  },
  {
   "cell_type": "code",
   "execution_count": 6,
   "metadata": {},
   "outputs": [
    {
     "name": "stdout",
     "output_type": "stream",
     "text": [
      "Index(['AA_seq', 'AH', 'Median', 'Mean', 'Organelle', 'NEES_binned', 'phil_A',\n",
      "       'phob_A', 'phil_G', 'phob_G', 'phil_V', 'phob_V', 'phil_L', 'phob_L',\n",
      "       'phil_I', 'phob_I', 'phil_F', 'phob_F', 'phil_W', 'phob_W', 'phil_M',\n",
      "       'phob_M', 'phil_Y', 'phob_Y', 'phil_C', 'phob_C', 'phil_S', 'phob_S',\n",
      "       'phil_T', 'phob_T', 'phil_R', 'phob_R', 'phil_K', 'phob_K', 'phil_N',\n",
      "       'phob_N', 'phil_Q', 'phob_Q', 'phil_D', 'phob_D', 'phil_E', 'phob_E',\n",
      "       'phil_H', 'phob_H', 'phil_P', 'phob_P', 'Length', 'Hydrophobicity',\n",
      "       'H_moment', 'Netcharge', 'Dfactor', 'phil_S_T', 'phil_R_K', 'phil_L_I',\n",
      "       'phil_F_W', 'phil_M_C', 'phil_D_E', 'phil_N_Q', 'phob_S_T', 'phob_R_K',\n",
      "       'phob_L_I', 'phob_F_W', 'phob_M_C', 'phob_D_E', 'phob_N_Q'],\n",
      "      dtype='object')\n"
     ]
    }
   ],
   "source": [
    "print(df.columns)"
   ]
  },
  {
   "cell_type": "code",
   "execution_count": 7,
   "metadata": {},
   "outputs": [],
   "source": [
    "# column definitions\n",
    "columns_heliquet =  df.columns[-5:]\n",
    "# print(columns_heliquet)\n",
    "columns_AAcomp = df.columns[6:-5]\n",
    "# print(columns_AAcomp)\n",
    "columns_AAcomp_phil = columns_AAcomp[list(range(0, len(columns_AAcomp), 2))]\n",
    "# print(columns_AAcomp_phil)\n",
    "columns_AAcomp_phob = columns_AAcomp[list(range(1, len(columns_AAcomp), 2))]\n",
    "# print(columns_AAcomp_phob)"
   ]
  },
  {
   "cell_type": "markdown",
   "metadata": {},
   "source": [
    "#### Random Forest Classifier: seperately for each face or combined"
   ]
  },
  {
   "cell_type": "code",
   "execution_count": 8,
   "metadata": {},
   "outputs": [
    {
     "data": {
      "text/plain": [
       "phil_S_T    0.184048\n",
       "phil_R_K    0.121105\n",
       "phil_N_Q    0.110686\n",
       "phil_D_E    0.109436\n",
       "phil_H      0.086626\n",
       "phil_L_I    0.070037\n",
       "phil_A      0.067845\n",
       "phil_G      0.066820\n",
       "phil_Y      0.058526\n",
       "phil_F_W    0.038757\n",
       "phil_M_C    0.033135\n",
       "phil_P      0.031118\n",
       "phil_V      0.021862\n",
       "dtype: float64"
      ]
     },
     "execution_count": 8,
     "metadata": {},
     "output_type": "execute_result"
    }
   ],
   "source": [
    "# Selecting hydrophilic face composition\n",
    "x_columns = ['phil_S_T', 'phil_R_K', 'phil_L_I', 'phil_F_W', 'phil_M_C', 'phil_D_E', 'phil_N_Q', \n",
    "                       'phil_A', 'phil_G', 'phil_V', 'phil_Y', 'phil_H', 'phil_P']\n",
    "\n",
    "# Prepare features and target variable for training the Random Forest Classifier\n",
    "X_train = df[x_columns]\n",
    "label_encoder = LabelEncoder()\n",
    "y_encoded = label_encoder.fit_transform(df['NEES_binned'])\n",
    "\n",
    "# Train a Random Forest Classifier with the combined predictors\n",
    "rf_classifier_combined = RandomForestClassifier(n_estimators=100, random_state=0)\n",
    "rf_classifier_combined.fit(X_train, y_encoded)\n",
    "\n",
    "# Get feature importances from the classifier\n",
    "importances_combined = rf_classifier_combined.feature_importances_\n",
    "feature_importance_combined = pd.Series(importances_combined, index=x_columns).sort_values(ascending=False)\n",
    "\n",
    "# Select significant features based on a threshold\n",
    "significant_features_combined = feature_importance_combined[feature_importance_combined >= 0.01]\n",
    "\n",
    "significant_features_combined"
   ]
  },
  {
   "cell_type": "code",
   "execution_count": 9,
   "metadata": {},
   "outputs": [
    {
     "data": {
      "text/plain": [
       "phob_L_I    0.172090\n",
       "phob_F_W    0.140341\n",
       "phob_S_T    0.122758\n",
       "phob_M_C    0.094387\n",
       "phob_V      0.091363\n",
       "phob_R_K    0.071110\n",
       "phob_G      0.067948\n",
       "phob_N_Q    0.049444\n",
       "phob_A      0.047264\n",
       "phob_D_E    0.040250\n",
       "phob_Y      0.039157\n",
       "phob_P      0.032364\n",
       "phob_H      0.031525\n",
       "dtype: float64"
      ]
     },
     "execution_count": 9,
     "metadata": {},
     "output_type": "execute_result"
    }
   ],
   "source": [
    "# Selecting hydrophobic face composition\n",
    "x_columns = ['phob_S_T', 'phob_R_K', 'phob_L_I', 'phob_F_W', 'phob_M_C', 'phob_D_E', 'phob_N_Q', \n",
    "                       'phob_A', 'phob_G', 'phob_V', 'phob_Y', 'phob_H', 'phob_P']\n",
    "\n",
    "# Prepare features and target variable for training the Random Forest Classifier\n",
    "X_train = df[x_columns]\n",
    "label_encoder = LabelEncoder()\n",
    "y_encoded = label_encoder.fit_transform(df['NEES_binned'])\n",
    "\n",
    "# Train a Random Forest Classifier with the combined predictors\n",
    "rf_classifier_combined = RandomForestClassifier(n_estimators=100, random_state=0)\n",
    "rf_classifier_combined.fit(X_train, y_encoded)\n",
    "\n",
    "# Get feature importances from the classifier\n",
    "importances_combined = rf_classifier_combined.feature_importances_\n",
    "feature_importance_combined = pd.Series(importances_combined, index=x_columns).sort_values(ascending=False)\n",
    "\n",
    "# Select significant features based on a threshold\n",
    "significant_features_combined = feature_importance_combined[feature_importance_combined >= 0.01]\n",
    "\n",
    "significant_features_combined"
   ]
  },
  {
   "cell_type": "code",
   "execution_count": 10,
   "metadata": {},
   "outputs": [
    {
     "name": "stdout",
     "output_type": "stream",
     "text": [
      "phil_S_T    0.129384\n",
      "phob_L_I    0.098766\n",
      "phil_D_E    0.064182\n",
      "phob_S_T    0.063109\n",
      "phob_F_W    0.059739\n",
      "phil_R_K    0.056742\n",
      "phob_V      0.054139\n",
      "phil_H      0.044576\n",
      "phob_M_C    0.043743\n",
      "phil_N_Q    0.040148\n",
      "phil_L_I    0.034420\n",
      "phil_Y      0.031635\n",
      "phil_G      0.029399\n",
      "phob_Y      0.028679\n",
      "phil_A      0.027266\n",
      "phob_R_K    0.022840\n",
      "phob_G      0.022689\n",
      "phil_M_C    0.021288\n",
      "phil_F_W    0.021136\n",
      "phob_A      0.020907\n",
      "phob_D_E    0.020896\n",
      "phob_N_Q    0.018649\n",
      "phil_P      0.013104\n",
      "phob_P      0.012299\n",
      "phob_H      0.012263\n",
      "dtype: float64\n"
     ]
    }
   ],
   "source": [
    "# Both faces\n",
    "x_columns = ['phil_S_T', 'phil_R_K', 'phil_L_I', 'phil_F_W', 'phil_M_C', 'phil_D_E', 'phil_N_Q', \n",
    "                       'phil_A', 'phil_G', 'phil_V', 'phil_Y', 'phil_H', 'phil_P'] + ['phob_S_T', 'phob_R_K', 'phob_L_I', 'phob_F_W', 'phob_M_C', 'phob_D_E', 'phob_N_Q', \n",
    "                       'phob_A', 'phob_G', 'phob_V', 'phob_Y', 'phob_H', 'phob_P']\n",
    "\n",
    "# Prepare features and target variable for training the Random Forest Classifier\n",
    "X_train = df[x_columns]\n",
    "label_encoder = LabelEncoder()\n",
    "y_encoded = label_encoder.fit_transform(df['NEES_binned'])\n",
    "\n",
    "# Train a Random Forest Classifier with the combined predictors\n",
    "rf_classifier_combined = RandomForestClassifier(n_estimators=100, random_state=0)\n",
    "rf_classifier_combined.fit(X_train, y_encoded)\n",
    "\n",
    "# Get feature importances from the classifier\n",
    "importances_combined = rf_classifier_combined.feature_importances_\n",
    "feature_importance_combined = pd.Series(importances_combined, index=x_columns).sort_values(ascending=False)\n",
    "\n",
    "# Select significant features based on a threshold\n",
    "significant_features_combined = feature_importance_combined[feature_importance_combined >= 0.01]\n",
    "print(significant_features_combined)\n",
    "\n",
    "significant_features_combined.to_csv('Output/RF_FeatureSignificance.csv', index=True)"
   ]
  },
  {
   "cell_type": "code",
   "execution_count": null,
   "metadata": {},
   "outputs": [],
   "source": []
  }
 ],
 "metadata": {
  "kernelspec": {
   "display_name": "py312",
   "language": "python",
   "name": "python3"
  },
  "language_info": {
   "codemirror_mode": {
    "name": "ipython",
    "version": 3
   },
   "file_extension": ".py",
   "mimetype": "text/x-python",
   "name": "python",
   "nbconvert_exporter": "python",
   "pygments_lexer": "ipython3",
   "version": "3.12.9"
  }
 },
 "nbformat": 4,
 "nbformat_minor": 2
}
