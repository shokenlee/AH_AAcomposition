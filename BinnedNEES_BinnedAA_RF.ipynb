{
 "cells": [
  {
   "cell_type": "code",
   "execution_count": 2,
   "metadata": {},
   "outputs": [],
   "source": [
    "import pandas as pd\n",
    "import matplotlib.pyplot as plt"
   ]
  },
  {
   "cell_type": "code",
   "execution_count": null,
   "metadata": {},
   "outputs": [],
   "source": [
    "from sklearn.ensemble import RandomForestClassifier\n",
    "from sklearn.preprocessing import LabelEncoder\n",
    "from sklearn.feature_selection import SelectFromModel"
   ]
  },
  {
   "cell_type": "code",
   "execution_count": 3,
   "metadata": {},
   "outputs": [],
   "source": [
    "df = pd.read_csv('./Output/NEES_summary_with_heliquest.csv')"
   ]
  },
  {
   "cell_type": "code",
   "execution_count": 4,
   "metadata": {},
   "outputs": [
    {
     "name": "stdout",
     "output_type": "stream",
     "text": [
      "Index(['AA_seq', 'AH', 'Median', 'Mean', 'Organelle', 'Median_Response',\n",
      "       'phil_A', 'phob_A', 'phil_G', 'phob_G', 'phil_V', 'phob_V', 'phil_L',\n",
      "       'phob_L', 'phil_I', 'phob_I', 'phil_F', 'phob_F', 'phil_W', 'phob_W',\n",
      "       'phil_M', 'phob_M', 'phil_Y', 'phob_Y', 'phil_C', 'phob_C', 'phil_S',\n",
      "       'phob_S', 'phil_T', 'phob_T', 'phil_R', 'phob_R', 'phil_K', 'phob_K',\n",
      "       'phil_N', 'phob_N', 'phil_Q', 'phob_Q', 'phil_D', 'phob_D', 'phil_E',\n",
      "       'phob_E', 'phil_H', 'phob_H', 'phil_P', 'phob_P', 'Length',\n",
      "       'Hydrophobicity', 'H_moment', 'Netcharge', 'Dfactor'],\n",
      "      dtype='object')\n"
     ]
    }
   ],
   "source": [
    "print(df.columns)"
   ]
  },
  {
   "cell_type": "code",
   "execution_count": 5,
   "metadata": {},
   "outputs": [],
   "source": [
    "# column definitions\n",
    "columns_heliquet =  df.columns[-5:]\n",
    "# print(columns_heliquet)\n",
    "columns_AAcomp = df.columns[6:-5]\n",
    "# print(columns_AAcomp)\n",
    "columns_AAcomp_phil = columns_AAcomp[list(range(0, len(columns_AAcomp), 2))]\n",
    "# print(columns_AAcomp_phil)\n",
    "columns_AAcomp_phob = columns_AAcomp[list(range(1, len(columns_AAcomp), 2))]\n",
    "# print(columns_AAcomp_phob)"
   ]
  },
  {
   "cell_type": "code",
   "execution_count": 10,
   "metadata": {},
   "outputs": [],
   "source": [
    "# Define the thresholds for binning y values based on the user's description\n",
    "def categorize_y(value):\n",
    "    thresholds = [0.6, 0.7, 1.0]\n",
    "    if value <= thresholds[0]:\n",
    "        return 'Low Response'\n",
    "    elif thresholds[0] < value <= thresholds[1]:\n",
    "        return 'Moderate Response'\n",
    "    elif thresholds[1] < value <= thresholds[2]:\n",
    "        return 'High Response'\n",
    "    else:\n",
    "        return 'Very High Response'"
   ]
  },
  {
   "cell_type": "code",
   "execution_count": 11,
   "metadata": {},
   "outputs": [],
   "source": [
    "# Apply the transformation to create a categorical target variable\n",
    "df['NEES_category'] = df['Median'].apply(categorize_y)"
   ]
  },
  {
   "cell_type": "code",
   "execution_count": 12,
   "metadata": {},
   "outputs": [
    {
     "data": {
      "text/plain": [
       "phil_S_T    0.162055\n",
       "phil_R_K    0.153369\n",
       "phil_N_Q    0.118514\n",
       "phil_H      0.096578\n",
       "phil_D_E    0.094712\n",
       "phil_L_I    0.074860\n",
       "phil_A      0.066143\n",
       "phil_G      0.063987\n",
       "phil_F_W    0.063121\n",
       "phil_M_C    0.041780\n",
       "phil_Y      0.026601\n",
       "phil_P      0.021974\n",
       "phil_V      0.016305\n",
       "dtype: float64"
      ]
     },
     "execution_count": 12,
     "metadata": {},
     "output_type": "execute_result"
    }
   ],
   "source": [
    "# Combining and summing the specified pairs of predictors\n",
    "df = df.copy()\n",
    "df['phil_S_T'] = df['phil_S'] + df['phil_T']\n",
    "df['phil_R_K'] = df['phil_R'] + df['phil_K']\n",
    "df['phil_L_I'] = df['phil_L'] + df['phil_I']\n",
    "df['phil_F_W'] = df['phil_F'] + df['phil_W']\n",
    "df['phil_M_C'] = df['phil_M'] + df['phil_C']\n",
    "df['phil_D_E'] = df['phil_D'] + df['phil_E']\n",
    "df['phil_N_Q'] = df['phil_N'] + df['phil_Q']\n",
    "\n",
    "# New set of combined predictors\n",
    "x_columns = ['phil_S_T', 'phil_R_K', 'phil_L_I', 'phil_F_W', 'phil_M_C', 'phil_D_E', 'phil_N_Q', \n",
    "                       'phil_A', 'phil_G', 'phil_V', 'phil_Y', 'phil_H', 'phil_P']\n",
    "\n",
    "# Prepare features and target variable for training the Random Forest Classifier\n",
    "X_train = df[x_columns]\n",
    "label_encoder = LabelEncoder()\n",
    "y_encoded = label_encoder.fit_transform(df['NEES_category'])\n",
    "\n",
    "# Train a Random Forest Classifier with the combined predictors\n",
    "rf_classifier_combined = RandomForestClassifier(n_estimators=100, random_state=0)\n",
    "rf_classifier_combined.fit(X_train, y_encoded)\n",
    "\n",
    "# Get feature importances from the classifier\n",
    "importances_combined = rf_classifier_combined.feature_importances_\n",
    "feature_importance_combined = pd.Series(importances_combined, index=x_columns).sort_values(ascending=False)\n",
    "\n",
    "# Select significant features based on a threshold\n",
    "significant_features_combined = feature_importance_combined[feature_importance_combined >= 0.01]\n",
    "\n",
    "significant_features_combined"
   ]
  },
  {
   "cell_type": "code",
   "execution_count": 13,
   "metadata": {},
   "outputs": [
    {
     "data": {
      "text/plain": [
       "phob_L_I    0.167795\n",
       "phob_S_T    0.137514\n",
       "phob_F_W    0.133867\n",
       "phob_V      0.116836\n",
       "phob_H      0.075788\n",
       "phob_M_C    0.068868\n",
       "phob_Y      0.059446\n",
       "phob_A      0.054709\n",
       "phob_N_Q    0.050492\n",
       "phob_R_K    0.046706\n",
       "phob_G      0.043765\n",
       "phob_P      0.025185\n",
       "phob_D_E    0.019030\n",
       "dtype: float64"
      ]
     },
     "execution_count": 13,
     "metadata": {},
     "output_type": "execute_result"
    }
   ],
   "source": [
    "# Combining and summing the specified pairs of predictors\n",
    "df = df.copy()\n",
    "df['phob_S_T'] = df['phob_S'] + df['phob_T']\n",
    "df['phob_R_K'] = df['phob_R'] + df['phob_K']\n",
    "df['phob_L_I'] = df['phob_L'] + df['phob_I']\n",
    "df['phob_F_W'] = df['phob_F'] + df['phob_W']\n",
    "df['phob_M_C'] = df['phob_M'] + df['phob_C']\n",
    "df['phob_D_E'] = df['phob_D'] + df['phob_E']\n",
    "df['phob_N_Q'] = df['phob_N'] + df['phob_Q']\n",
    "\n",
    "# New set of combined predictors\n",
    "x_columns = ['phob_S_T', 'phob_R_K', 'phob_L_I', 'phob_F_W', 'phob_M_C', 'phob_D_E', 'phob_N_Q', \n",
    "                       'phob_A', 'phob_G', 'phob_V', 'phob_Y', 'phob_H', 'phob_P']\n",
    "\n",
    "# Prepare features and target variable for training the Random Forest Classifier\n",
    "X_train = df[x_columns]\n",
    "label_encoder = LabelEncoder()\n",
    "y_encoded = label_encoder.fit_transform(df['NEES_category'])\n",
    "\n",
    "# Train a Random Forest Classifier with the combined predictors\n",
    "rf_classifier_combined = RandomForestClassifier(n_estimators=100, random_state=0)\n",
    "rf_classifier_combined.fit(X_train, y_encoded)\n",
    "\n",
    "# Get feature importances from the classifier\n",
    "importances_combined = rf_classifier_combined.feature_importances_\n",
    "feature_importance_combined = pd.Series(importances_combined, index=x_columns).sort_values(ascending=False)\n",
    "\n",
    "# Select significant features based on a threshold\n",
    "significant_features_combined = feature_importance_combined[feature_importance_combined >= 0.01]\n",
    "\n",
    "significant_features_combined"
   ]
  },
  {
   "cell_type": "code",
   "execution_count": null,
   "metadata": {},
   "outputs": [],
   "source": []
  }
 ],
 "metadata": {
  "kernelspec": {
   "display_name": "py312",
   "language": "python",
   "name": "python3"
  },
  "language_info": {
   "codemirror_mode": {
    "name": "ipython",
    "version": 3
   },
   "file_extension": ".py",
   "mimetype": "text/x-python",
   "name": "python",
   "nbconvert_exporter": "python",
   "pygments_lexer": "ipython3",
   "version": "3.12.9"
  }
 },
 "nbformat": 4,
 "nbformat_minor": 2
}
