{
 "cells": [
  {
   "cell_type": "code",
   "execution_count": 1,
   "metadata": {},
   "outputs": [],
   "source": [
    "import numpy as np\n",
    "import pandas as pd\n",
    "import matplotlib.pyplot as plt\n",
    "import seaborn as sns\n",
    "import module_heliquest_like\n",
    "from module_heliquest_like import amino_acids"
   ]
  },
  {
   "cell_type": "code",
   "execution_count": 2,
   "metadata": {},
   "outputs": [],
   "source": [
    "# import\n",
    "df_AH = pd.read_excel('SourceData/AH_sequences.xlsx')\n",
    "df_NEES = pd.read_csv('Output/NEES_summary.csv')"
   ]
  },
  {
   "cell_type": "code",
   "execution_count": 3,
   "metadata": {},
   "outputs": [],
   "source": [
    "# Create AH name column\n",
    "df_AH['AH_name'] = df_AH['Protein_Name'] + '-' + df_AH['AH#'].astype(str)\n",
    "df_AH['AH_name'] = df_AH['AH_name'].str.replace('-1', '')\n",
    "# lowercase\n",
    "df_AH['AH_name'] = df_AH['AH_name'].str.lower()\n",
    "\n",
    "# lowercase\n",
    "df_NEES['AH'] = df_NEES['AH'].str.lower()\n",
    "\n",
    "\n",
    "# merge\n",
    "df = pd.merge(df_AH, df_NEES, left_on='AH_name', right_on='AH', how='inner')\n",
    "# drop some columns\n",
    "df = df.drop(columns=['AH_name', 'Protein_Name', 'AH#'])\n",
    "\n",
    "\n",
    "# dropna\n",
    "# df = df.dropna(subset=['Median'])\n",
    "df.reset_index(drop=True, inplace=True)"
   ]
  },
  {
   "cell_type": "code",
   "execution_count": 4,
   "metadata": {},
   "outputs": [],
   "source": [
    "# AA composition analysis\n",
    "for i, SEQ in enumerate(df.AA_seq.to_list()):\n",
    "    aa_seq = module_heliquest_like.AA_seq(SEQ)\n",
    "\n",
    "    aa_seq.calculate_hydrophobic_moment()\n",
    "    aa_seq.extract_face_sequences()\n",
    "    aa_seq.calculate_hydrophobicity()\n",
    "    aa_seq.calculate_netcharge()\n",
    "    aa_seq.calculate_dfactor()\n",
    "\n",
    "    for AA in amino_acids:\n",
    "        df.loc[i, 'phil_' + AA] = round(aa_seq.hydro_philic_face.count(AA) / len(aa_seq.hydro_philic_face), 2)\n",
    "        df.loc[i, 'phob_' + AA] = round(aa_seq.hydro_phobic_face.count(AA) / len(aa_seq.hydro_philic_face), 2)\n",
    "   \n",
    "    df.loc[i, 'Length'] = len(SEQ)\n",
    "    df.loc[i, 'Hydrophobicity'] = round(aa_seq.mean_hydrophobicity, 3)    \n",
    "    df.loc[i, 'H_moment'] = aa_seq.mean_hydrophobic_moment\n",
    "    df.loc[i, 'Netcharge'] = round(aa_seq.netcharge, 3)\n",
    "    df.loc[i, 'Dfactor'] = round(aa_seq.dfactor, 3)"
   ]
  },
  {
   "cell_type": "code",
   "execution_count": 5,
   "metadata": {},
   "outputs": [],
   "source": [
    "# Subgrouping amino acids\n",
    "df['phil_S_T'] = df['phil_S'] + df['phil_T']\n",
    "df['phil_R_K'] = df['phil_R'] + df['phil_K']\n",
    "df['phil_L_I'] = df['phil_L'] + df['phil_I']\n",
    "df['phil_F_W_Y'] = df['phil_F'] + df['phil_W'] + df['phil_Y']\n",
    "df['phil_M_C'] = df['phil_M'] + df['phil_C']\n",
    "df['phil_D_E'] = df['phil_D'] + df['phil_E']\n",
    "df['phil_N_Q'] = df['phil_N'] + df['phil_Q']\n",
    "\n",
    "df['phob_S_T'] = df['phob_S'] + df['phob_T']\n",
    "df['phob_R_K'] = df['phob_R'] + df['phob_K']\n",
    "df['phob_L_I'] = df['phob_L'] + df['phob_I']\n",
    "df['phob_F_W_Y'] = df['phob_F'] + df['phob_W'] + df['phob_Y']\n",
    "df['phob_M_C'] = df['phob_M'] + df['phob_C']\n",
    "df['phob_D_E'] = df['phob_D'] + df['phob_E']\n",
    "df['phob_N_Q'] = df['phob_N'] + df['phob_Q']"
   ]
  },
  {
   "cell_type": "code",
   "execution_count": 6,
   "metadata": {},
   "outputs": [],
   "source": [
    "# ST:RK ratio with decimal points 3\n",
    "df[\"STRK_ratio\"] = (df['phil_S_T'] / df['phil_R_K']).round(3)\n",
    "# take log1p\n",
    "df[\"STRK_ratio_Log1p\"] = df[\"STRK_ratio\"].apply(lambda x: round(np.log1p(x), 3))"
   ]
  },
  {
   "cell_type": "code",
   "execution_count": 7,
   "metadata": {},
   "outputs": [],
   "source": [
    "# A bespoke funtion for plotting\n",
    "def myplot(df, y):\n",
    "    plt.figure(figsize=(3, 3))\n",
    "    sns.boxplot(y=y, data=df, palette=\"Blues\")\n",
    "    # Add scatter points jittered for better visualization\n",
    "    sns.stripplot(y=y, data=df, color=\"black\", jitter=True, alpha=0.5)\n",
    "    # sns.stripplot(x=x, y=y, data=df, order=order, color='black', jitter=True, alpha=0.5)\n",
    "\n",
    "    plt.tight_layout()\n",
    "    plt.show()"
   ]
  },
  {
   "cell_type": "code",
   "execution_count": 8,
   "metadata": {},
   "outputs": [
    {
     "name": "stderr",
     "output_type": "stream",
     "text": [
      "/var/folders/qv/j3ddjz6j0qq0nh7cbqghj4wh0000gn/T/ipykernel_7114/456037263.py:4: FutureWarning: \n",
      "\n",
      "Passing `palette` without assigning `hue` is deprecated and will be removed in v0.14.0. Assign the `x` variable to `hue` and set `legend=False` for the same effect.\n",
      "\n",
      "  sns.boxplot(y=y, data=df, palette=\"Blues\")\n"
     ]
    },
    {
     "data": {
      "image/png": "[encoded data removed]",
      "text/plain": [
       "<Figure size 300x300 with 1 Axes>"
      ]
     },
     "metadata": {},
     "output_type": "display_data"
    }
   ],
   "source": [
    "myplot(df, 'STRK_ratio')"
   ]
  },
  {
   "cell_type": "code",
   "execution_count": 9,
   "metadata": {},
   "outputs": [
    {
     "name": "stderr",
     "output_type": "stream",
     "text": [
      "/var/folders/qv/j3ddjz6j0qq0nh7cbqghj4wh0000gn/T/ipykernel_7114/456037263.py:4: FutureWarning: \n",
      "\n",
      "Passing `palette` without assigning `hue` is deprecated and will be removed in v0.14.0. Assign the `x` variable to `hue` and set `legend=False` for the same effect.\n",
      "\n",
      "  sns.boxplot(y=y, data=df, palette=\"Blues\")\n"
     ]
    },
    {
     "data": {
      "image/png": "[encoded data removed]",
      "text/plain": [
       "<Figure size 300x300 with 1 Axes>"
      ]
     },
     "metadata": {},
     "output_type": "display_data"
    }
   ],
   "source": [
    "myplot(df, 'STRK_ratio_Log1p')"
   ]
  },
  {
   "cell_type": "code",
   "execution_count": 10,
   "metadata": {},
   "outputs": [],
   "source": [
    "df.to_csv('Output/NEES_summary_with_heliquest.csv', index=False)"
   ]
  },
  {
   "cell_type": "code",
   "execution_count": null,
   "metadata": {},
   "outputs": [],
   "source": []
  }
 ],
 "metadata": {
  "kernelspec": {
   "display_name": "py312",
   "language": "python",
   "name": "python3"
  },
  "language_info": {
   "codemirror_mode": {
    "name": "ipython",
    "version": 3
   },
   "file_extension": ".py",
   "mimetype": "text/x-python",
   "name": "python",
   "nbconvert_exporter": "python",
   "pygments_lexer": "ipython3",
   "version": "3.12.9"
  }
 },
 "nbformat": 4,
 "nbformat_minor": 2
}
