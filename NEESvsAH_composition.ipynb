{
 "cells": [
  {
   "cell_type": "code",
   "execution_count": 1,
   "metadata": {},
   "outputs": [],
   "source": [
    "import pandas as pd\n",
    "import module_heliquest_like\n",
    "from module_heliquest_like import amino_acids"
   ]
  },
  {
   "cell_type": "code",
   "execution_count": 14,
   "metadata": {},
   "outputs": [],
   "source": [
    "# import\n",
    "df_AH = pd.read_excel('SourceData/AH_sequences.xlsx')\n",
    "df_NEES = pd.read_csv('Output/NEES_summary.csv')\n",
    "df_organelle = pd.read_csv('SourceData/AH_organelle_category.csv')"
   ]
  },
  {
   "cell_type": "code",
   "execution_count": 15,
   "metadata": {},
   "outputs": [],
   "source": [
    "# Create AH name column\n",
    "df_AH['AH_name'] = df_AH['Protein_Name'] + '-' + df_AH['AH#'].astype(str)\n",
    "df_AH['AH_name'] = df_AH['AH_name'].str.replace('-1', '')\n",
    "# lowercase\n",
    "df_AH['AH_name'] = df_AH['AH_name'].str.lower()\n",
    "\n",
    "# lowercase\n",
    "df_NEES['AH'] = df_NEES['AH'].str.lower()\n",
    "\n",
    "# merge\n",
    "df = pd.merge(df_AH, df_NEES, left_on='AH_name', right_on='AH', how='inner')\n",
    "df = pd.merge(df, df_organelle, left_on='AH_name', right_on='AH', how='inner')\n",
    "# drop some columns\n",
    "df = df.drop(columns=['AH_name', 'Protein_Name', 'AH#', 'AH_y'])\n",
    "df = df.rename(columns={'AH_x': 'AH'})\n",
    "# dropna\n",
    "df = df.dropna(subset=['Median'])\n",
    "df.reset_index(drop=True, inplace=True)"
   ]
  },
  {
   "cell_type": "code",
   "execution_count": 16,
   "metadata": {},
   "outputs": [],
   "source": [
    "# Bin NEES median values by arbitrary thresholds\n",
    "def categorize_NEES(value):\n",
    "    thresholds = [0.65, 0.8]\n",
    "    if value <= thresholds[0]:\n",
    "        return 'No Binding'\n",
    "    elif thresholds[0] < value <= thresholds[1]:\n",
    "        return 'Subtle Binding'\n",
    "    else:\n",
    "        return 'Strong Binding'\n",
    "\n",
    "# Apply the function to the Median column\n",
    "df['NEES_binned'] = df['Median'].apply(categorize_NEES)"
   ]
  },
  {
   "cell_type": "code",
   "execution_count": 17,
   "metadata": {},
   "outputs": [],
   "source": [
    "# AA composition analysis\n",
    "for i, SEQ in enumerate(df.AA_seq.to_list()):\n",
    "    aa_seq = module_heliquest_like.AA_seq(SEQ)\n",
    "\n",
    "    aa_seq.calculate_hydrophobic_moment()\n",
    "    aa_seq.extract_face_sequences()\n",
    "    aa_seq.calculate_hydrophobicity()\n",
    "    aa_seq.calculate_netcharge()\n",
    "    aa_seq.calculate_dfactor()\n",
    "\n",
    "    for AA in amino_acids:\n",
    "        df.loc[i, 'phil_' + AA] = round(aa_seq.hydro_philic_face.count(AA) / len(aa_seq.hydro_philic_face), 2)\n",
    "        df.loc[i, 'phob_' + AA] = round(aa_seq.hydro_phobic_face.count(AA) / len(aa_seq.hydro_philic_face), 2)\n",
    "   \n",
    "    df.loc[i, 'Length'] = len(SEQ)\n",
    "    df.loc[i, 'Hydrophobicity'] = round(aa_seq.mean_hydrophobicity, 3)    \n",
    "    df.loc[i, 'H_moment'] = aa_seq.mean_hydrophobic_moment\n",
    "    df.loc[i, 'Netcharge'] = round(aa_seq.netcharge, 3)\n",
    "    df.loc[i, 'Dfactor'] = round(aa_seq.dfactor, 3)"
   ]
  },
  {
   "cell_type": "code",
   "execution_count": 18,
   "metadata": {},
   "outputs": [],
   "source": [
    "# Subgrouping amino acids\n",
    "df['phil_S_T'] = df['phil_S'] + df['phil_T']\n",
    "df['phil_R_K'] = df['phil_R'] + df['phil_K']\n",
    "df['phil_L_I'] = df['phil_L'] + df['phil_I']\n",
    "df['phil_F_W'] = df['phil_F'] + df['phil_W']\n",
    "df['phil_M_C'] = df['phil_M'] + df['phil_C']\n",
    "df['phil_D_E'] = df['phil_D'] + df['phil_E']\n",
    "df['phil_N_Q'] = df['phil_N'] + df['phil_Q']\n",
    "\n",
    "df['phob_S_T'] = df['phob_S'] + df['phob_T']\n",
    "df['phob_R_K'] = df['phob_R'] + df['phob_K']\n",
    "df['phob_L_I'] = df['phob_L'] + df['phob_I']\n",
    "df['phob_F_W'] = df['phob_F'] + df['phob_W']\n",
    "df['phob_M_C'] = df['phob_M'] + df['phob_C']\n",
    "df['phob_D_E'] = df['phob_D'] + df['phob_E']\n",
    "df['phob_N_Q'] = df['phob_N'] + df['phob_Q']"
   ]
  },
  {
   "cell_type": "code",
   "execution_count": 19,
   "metadata": {},
   "outputs": [],
   "source": [
    "df.to_csv('Output/NEES_summary_with_heliquest.csv', index=False)"
   ]
  },
  {
   "cell_type": "code",
   "execution_count": null,
   "metadata": {},
   "outputs": [],
   "source": []
  }
 ],
 "metadata": {
  "kernelspec": {
   "display_name": "py312",
   "language": "python",
   "name": "python3"
  },
  "language_info": {
   "codemirror_mode": {
    "name": "ipython",
    "version": 3
   },
   "file_extension": ".py",
   "mimetype": "text/x-python",
   "name": "python",
   "nbconvert_exporter": "python",
   "pygments_lexer": "ipython3",
   "version": "3.12.9"
  }
 },
 "nbformat": 4,
 "nbformat_minor": 2
}
