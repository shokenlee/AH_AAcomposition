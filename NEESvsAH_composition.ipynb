{
 "cells": [
  {
   "cell_type": "code",
   "execution_count": null,
   "metadata": {},
   "outputs": [],
   "source": [
    "import pandas as pd"
   ]
  },
  {
   "cell_type": "code",
   "execution_count": 21,
   "metadata": {},
   "outputs": [],
   "source": [
    "# import\n",
    "df_AH = pd.read_excel('SourceData/AH_sequences.xlsx')\n",
    "df_NEES = pd.read_csv('Output/NEES_summary.csv')"
   ]
  },
  {
   "cell_type": "code",
   "execution_count": 22,
   "metadata": {},
   "outputs": [],
   "source": [
    "# Create AH name column\n",
    "df_AH['AH_name'] = df_AH['Protein_Name'] + '-' + df_AH['AH#'].astype(str)\n",
    "df_AH['AH_name'] = df_AH['AH_name'].str.replace('-1', '')\n",
    "# lowercase\n",
    "df_AH['AH_name'] = df_AH['AH_name'].str.lower()"
   ]
  },
  {
   "cell_type": "code",
   "execution_count": 23,
   "metadata": {},
   "outputs": [],
   "source": [
    "# lowercase\n",
    "df_NEES['AH'] = df_NEES['AH'].str.lower()"
   ]
  },
  {
   "cell_type": "code",
   "execution_count": 24,
   "metadata": {},
   "outputs": [],
   "source": [
    "# merge\n",
    "df = pd.merge(df_AH, df_NEES, left_on='AH_name', right_on='AH', how='inner')\n",
    "# drop some columns\n",
    "df = df.drop(columns=['AH_name', 'Protein_Name', 'AH#'])"
   ]
  },
  {
   "cell_type": "code",
   "execution_count": null,
   "metadata": {},
   "outputs": [],
   "source": []
  }
 ],
 "metadata": {
  "kernelspec": {
   "display_name": "py312",
   "language": "python",
   "name": "python3"
  },
  "language_info": {
   "codemirror_mode": {
    "name": "ipython",
    "version": 3
   },
   "file_extension": ".py",
   "mimetype": "text/x-python",
   "name": "python",
   "nbconvert_exporter": "python",
   "pygments_lexer": "ipython3",
   "version": "3.12.9"
  }
 },
 "nbformat": 4,
 "nbformat_minor": 2
}
