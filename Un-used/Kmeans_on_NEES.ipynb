{
 "cells": [
  {
   "cell_type": "code",
   "execution_count": 1,
   "metadata": {},
   "outputs": [],
   "source": [
    "import pandas as pd\n",
    "from sklearn.cluster import KMeans"
   ]
  },
  {
   "cell_type": "code",
   "execution_count": 2,
   "metadata": {},
   "outputs": [],
   "source": [
    "df = pd.read_csv('./Output/NEES_summary_with_heliquest_Median_Transformed.csv')"
   ]
  },
  {
   "cell_type": "code",
   "execution_count": 3,
   "metadata": {},
   "outputs": [],
   "source": [
    "# Extract the original \"Median\" and \"Median_boxcox\" columns\n",
    "original_median = df['Median']\n",
    "median_boxcox = df['Median_boxcox']"
   ]
  },
  {
   "cell_type": "code",
   "execution_count": 4,
   "metadata": {},
   "outputs": [],
   "source": [
    "# 1. Apply K-means clustering to the original \"Median\" values with 3 bins\n",
    "kmeans_original = KMeans(n_clusters=3, random_state=0)\n",
    "original_bins = kmeans_original.fit_predict(original_median.values.reshape(-1, 1))\n",
    "\n",
    "# 2. Apply K-means clustering to the Box-Cox transformed \"Median\" values with 3 bins\n",
    "kmeans_boxcox = KMeans(n_clusters=3, random_state=0)\n",
    "boxcox_bins = kmeans_boxcox.fit_predict(median_boxcox.values.reshape(-1, 1))\n"
   ]
  },
  {
   "cell_type": "code",
   "execution_count": 6,
   "metadata": {},
   "outputs": [],
   "source": [
    "df['Kmeans_bins'] = boxcox_bins"
   ]
  },
  {
   "cell_type": "code",
   "execution_count": 7,
   "metadata": {},
   "outputs": [],
   "source": [
    "df.to_csv('./Output/NEES_summary_with_heliquest_Median_Transformed_Kmeans.csv', index=False)"
   ]
  },
  {
   "cell_type": "code",
   "execution_count": null,
   "metadata": {},
   "outputs": [],
   "source": []
  }
 ],
 "metadata": {
  "kernelspec": {
   "display_name": "py312",
   "language": "python",
   "name": "python3"
  },
  "language_info": {
   "codemirror_mode": {
    "name": "ipython",
    "version": 3
   },
   "file_extension": ".py",
   "mimetype": "text/x-python",
   "name": "python",
   "nbconvert_exporter": "python",
   "pygments_lexer": "ipython3",
   "version": "3.12.9"
  }
 },
 "nbformat": 4,
 "nbformat_minor": 2
}
