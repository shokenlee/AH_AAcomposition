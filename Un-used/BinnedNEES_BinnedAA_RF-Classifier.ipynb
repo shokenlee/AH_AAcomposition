{
 "cells": [
  {
   "cell_type": "code",
   "execution_count": 1,
   "metadata": {},
   "outputs": [],
   "source": [
    "import pandas as pd"
   ]
  },
  {
   "cell_type": "code",
   "execution_count": 2,
   "metadata": {},
   "outputs": [],
   "source": [
    "from sklearn.ensemble import RandomForestClassifier\n",
    "from sklearn.preprocessing import LabelEncoder"
   ]
  },
  {
   "cell_type": "code",
   "execution_count": 3,
   "metadata": {},
   "outputs": [],
   "source": [
    "df = pd.read_csv('./Output/NEES_summary_with_heliquest.csv')"
   ]
  },
  {
   "cell_type": "code",
   "execution_count": 4,
   "metadata": {},
   "outputs": [
    {
     "name": "stdout",
     "output_type": "stream",
     "text": [
      "Index(['AA_seq', 'AH', 'Median', 'Mean', 'NEES_binned', 'phil_A', 'phob_A',\n",
      "       'phil_G', 'phob_G', 'phil_V', 'phob_V', 'phil_L', 'phob_L', 'phil_I',\n",
      "       'phob_I', 'phil_F', 'phob_F', 'phil_W', 'phob_W', 'phil_M', 'phob_M',\n",
      "       'phil_Y', 'phob_Y', 'phil_C', 'phob_C', 'phil_S', 'phob_S', 'phil_T',\n",
      "       'phob_T', 'phil_R', 'phob_R', 'phil_K', 'phob_K', 'phil_N', 'phob_N',\n",
      "       'phil_Q', 'phob_Q', 'phil_D', 'phob_D', 'phil_E', 'phob_E', 'phil_H',\n",
      "       'phob_H', 'phil_P', 'phob_P', 'Length', 'Hydrophobicity', 'H_moment',\n",
      "       'Netcharge', 'Dfactor', 'phil_S_T', 'phil_R_K', 'phil_L_I', 'phil_F_W',\n",
      "       'phil_M_C', 'phil_D_E', 'phil_N_Q', 'phob_S_T', 'phob_R_K', 'phob_L_I',\n",
      "       'phob_F_W', 'phob_M_C', 'phob_D_E', 'phob_N_Q'],\n",
      "      dtype='object')\n"
     ]
    }
   ],
   "source": [
    "print(df.columns)"
   ]
  },
  {
   "cell_type": "code",
   "execution_count": 5,
   "metadata": {},
   "outputs": [],
   "source": [
    "# column definitions\n",
    "columns_heliquet =  df.columns[-5:]\n",
    "# print(columns_heliquet)\n",
    "columns_AAcomp = df.columns[6:-5]\n",
    "# print(columns_AAcomp)\n",
    "columns_AAcomp_phil = columns_AAcomp[list(range(0, len(columns_AAcomp), 2))]\n",
    "# print(columns_AAcomp_phil)\n",
    "columns_AAcomp_phob = columns_AAcomp[list(range(1, len(columns_AAcomp), 2))]\n",
    "# print(columns_AAcomp_phob)"
   ]
  },
  {
   "cell_type": "markdown",
   "metadata": {},
   "source": [
    "#### Random Forest Classifier: seperately for each face or combined"
   ]
  },
  {
   "cell_type": "code",
   "execution_count": 6,
   "metadata": {},
   "outputs": [
    {
     "data": {
      "text/plain": [
       "phil_S_T    0.174203\n",
       "phil_N_Q    0.124888\n",
       "phil_R_K    0.120730\n",
       "phil_D_E    0.096953\n",
       "phil_A      0.083571\n",
       "phil_L_I    0.078402\n",
       "phil_G      0.074615\n",
       "phil_H      0.058627\n",
       "phil_Y      0.047809\n",
       "phil_F_W    0.044093\n",
       "phil_M_C    0.036634\n",
       "phil_P      0.036386\n",
       "phil_V      0.023087\n",
       "dtype: float64"
      ]
     },
     "execution_count": 6,
     "metadata": {},
     "output_type": "execute_result"
    }
   ],
   "source": [
    "# Selecting hydrophilic face composition\n",
    "x_columns = ['phil_S_T', 'phil_R_K', 'phil_L_I', 'phil_F_W', 'phil_M_C', 'phil_D_E', 'phil_N_Q', \n",
    "                       'phil_A', 'phil_G', 'phil_V', 'phil_Y', 'phil_H', 'phil_P']\n",
    "\n",
    "# Prepare features and target variable for training the Random Forest Classifier\n",
    "X_train = df[x_columns]\n",
    "label_encoder = LabelEncoder()\n",
    "y_encoded = label_encoder.fit_transform(df['NEES_binned'])\n",
    "\n",
    "# Train a Random Forest Classifier with the combined predictors\n",
    "rf_classifier_combined = RandomForestClassifier(n_estimators=100, random_state=0)\n",
    "rf_classifier_combined.fit(X_train, y_encoded)\n",
    "\n",
    "# Get feature importances from the classifier\n",
    "importances_combined = rf_classifier_combined.feature_importances_\n",
    "feature_importance_combined = pd.Series(importances_combined, index=x_columns).sort_values(ascending=False)\n",
    "\n",
    "# Select significant features based on a threshold\n",
    "significant_features_combined = feature_importance_combined[feature_importance_combined >= 0.01]\n",
    "\n",
    "significant_features_combined"
   ]
  },
  {
   "cell_type": "code",
   "execution_count": 7,
   "metadata": {},
   "outputs": [
    {
     "data": {
      "text/plain": [
       "phob_L_I    0.181509\n",
       "phob_F_W    0.148210\n",
       "phob_M_C    0.100686\n",
       "phob_S_T    0.090860\n",
       "phob_V      0.080744\n",
       "phob_R_K    0.064269\n",
       "phob_A      0.061790\n",
       "phob_G      0.058094\n",
       "phob_D_E    0.049690\n",
       "phob_N_Q    0.047881\n",
       "phob_P      0.042998\n",
       "phob_Y      0.038484\n",
       "phob_H      0.034786\n",
       "dtype: float64"
      ]
     },
     "execution_count": 7,
     "metadata": {},
     "output_type": "execute_result"
    }
   ],
   "source": [
    "# Selecting hydrophobic face composition\n",
    "x_columns = ['phob_S_T', 'phob_R_K', 'phob_L_I', 'phob_F_W', 'phob_M_C', 'phob_D_E', 'phob_N_Q', \n",
    "                       'phob_A', 'phob_G', 'phob_V', 'phob_Y', 'phob_H', 'phob_P']\n",
    "\n",
    "# Prepare features and target variable for training the Random Forest Classifier\n",
    "X_train = df[x_columns]\n",
    "label_encoder = LabelEncoder()\n",
    "y_encoded = label_encoder.fit_transform(df['NEES_binned'])\n",
    "\n",
    "# Train a Random Forest Classifier with the combined predictors\n",
    "rf_classifier_combined = RandomForestClassifier(n_estimators=100, random_state=0)\n",
    "rf_classifier_combined.fit(X_train, y_encoded)\n",
    "\n",
    "# Get feature importances from the classifier\n",
    "importances_combined = rf_classifier_combined.feature_importances_\n",
    "feature_importance_combined = pd.Series(importances_combined, index=x_columns).sort_values(ascending=False)\n",
    "\n",
    "# Select significant features based on a threshold\n",
    "significant_features_combined = feature_importance_combined[feature_importance_combined >= 0.01]\n",
    "\n",
    "significant_features_combined"
   ]
  },
  {
   "cell_type": "code",
   "execution_count": 8,
   "metadata": {},
   "outputs": [
    {
     "name": "stdout",
     "output_type": "stream",
     "text": [
      "phil_S_T    0.129212\n",
      "phob_L_I    0.106458\n",
      "phob_F_W    0.073824\n",
      "phil_N_Q    0.058032\n",
      "phob_S_T    0.048819\n",
      "phil_D_E    0.047469\n",
      "phil_R_K    0.045048\n",
      "phob_V      0.041260\n",
      "phob_M_C    0.040414\n",
      "phil_L_I    0.038455\n",
      "phil_A      0.035177\n",
      "phil_H      0.033845\n",
      "phob_Y      0.033583\n",
      "phob_D_E    0.031487\n",
      "phob_A      0.028337\n",
      "phob_G      0.026776\n",
      "phil_Y      0.025825\n",
      "phil_G      0.025355\n",
      "phil_M_C    0.020529\n",
      "phil_F_W    0.018273\n",
      "phob_R_K    0.017822\n",
      "phob_H      0.016778\n",
      "phil_P      0.016340\n",
      "phob_N_Q    0.016121\n",
      "phob_P      0.013922\n",
      "phil_V      0.010838\n",
      "dtype: float64\n"
     ]
    }
   ],
   "source": [
    "# Both faces\n",
    "x_columns = ['phil_S_T', 'phil_R_K', 'phil_L_I', 'phil_F_W', 'phil_M_C', 'phil_D_E', 'phil_N_Q', \n",
    "                       'phil_A', 'phil_G', 'phil_V', 'phil_Y', 'phil_H', 'phil_P'] + ['phob_S_T', 'phob_R_K', 'phob_L_I', 'phob_F_W', 'phob_M_C', 'phob_D_E', 'phob_N_Q', \n",
    "                       'phob_A', 'phob_G', 'phob_V', 'phob_Y', 'phob_H', 'phob_P']\n",
    "\n",
    "# Prepare features and target variable for training the Random Forest Classifier\n",
    "X_train = df[x_columns]\n",
    "label_encoder = LabelEncoder()\n",
    "y_encoded = label_encoder.fit_transform(df['NEES_binned'])\n",
    "\n",
    "# Train a Random Forest Classifier with the combined predictors\n",
    "rf_classifier_combined = RandomForestClassifier(n_estimators=100, random_state=0)\n",
    "rf_classifier_combined.fit(X_train, y_encoded)\n",
    "\n",
    "# Get feature importances from the classifier\n",
    "importances_combined = rf_classifier_combined.feature_importances_\n",
    "feature_importance_combined = pd.Series(importances_combined, index=x_columns).sort_values(ascending=False)\n",
    "\n",
    "# Select significant features based on a threshold\n",
    "significant_features_combined = feature_importance_combined[feature_importance_combined >= 0.01]\n",
    "print(significant_features_combined)\n",
    "\n",
    "significant_features_combined.to_csv('Output/RF_FeatureSignificance.csv', index=True)"
   ]
  },
  {
   "cell_type": "code",
   "execution_count": null,
   "metadata": {},
   "outputs": [],
   "source": []
  }
 ],
 "metadata": {
  "kernelspec": {
   "display_name": "py312",
   "language": "python",
   "name": "python3"
  },
  "language_info": {
   "codemirror_mode": {
    "name": "ipython",
    "version": 3
   },
   "file_extension": ".py",
   "mimetype": "text/x-python",
   "name": "python",
   "nbconvert_exporter": "python",
   "pygments_lexer": "ipython3",
   "version": "3.12.9"
  }
 },
 "nbformat": 4,
 "nbformat_minor": 2
}
