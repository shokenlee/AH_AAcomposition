{
 "cells": [
  {
   "cell_type": "code",
   "execution_count": 1,
   "metadata": {},
   "outputs": [],
   "source": [
    "import statsmodels.api as sm\n",
    "import numpy as np\n",
    "import pandas as pd\n",
    "import matplotlib.pyplot as plt\n",
    "import seaborn as sns"
   ]
  },
  {
   "cell_type": "code",
   "execution_count": 2,
   "metadata": {},
   "outputs": [],
   "source": [
    "df = pd.read_csv('./Output/NEES_summary_with_heliquest.csv')"
   ]
  },
  {
   "cell_type": "code",
   "execution_count": 3,
   "metadata": {},
   "outputs": [
    {
     "name": "stdout",
     "output_type": "stream",
     "text": [
      "Index(['AA_seq', 'AH', 'Median', 'Mean', 'Organelle', 'NEES_binned', 'phil_A',\n",
      "       'phob_A', 'phil_G', 'phob_G', 'phil_V', 'phob_V', 'phil_L', 'phob_L',\n",
      "       'phil_I', 'phob_I', 'phil_F', 'phob_F', 'phil_W', 'phob_W', 'phil_M',\n",
      "       'phob_M', 'phil_Y', 'phob_Y', 'phil_C', 'phob_C', 'phil_S', 'phob_S',\n",
      "       'phil_T', 'phob_T', 'phil_R', 'phob_R', 'phil_K', 'phob_K', 'phil_N',\n",
      "       'phob_N', 'phil_Q', 'phob_Q', 'phil_D', 'phob_D', 'phil_E', 'phob_E',\n",
      "       'phil_H', 'phob_H', 'phil_P', 'phob_P', 'Length', 'Hydrophobicity',\n",
      "       'H_moment', 'Netcharge', 'Dfactor', 'phil_S_T', 'phil_R_K', 'phil_L_I',\n",
      "       'phil_F_W', 'phil_M_C', 'phil_D_E', 'phil_N_Q', 'phob_S_T', 'phob_R_K',\n",
      "       'phob_L_I', 'phob_F_W', 'phob_M_C', 'phob_D_E', 'phob_N_Q'],\n",
      "      dtype='object')\n"
     ]
    }
   ],
   "source": [
    "print(df.columns)"
   ]
  },
  {
   "cell_type": "code",
   "execution_count": 16,
   "metadata": {},
   "outputs": [
    {
     "name": "stdout",
     "output_type": "stream",
     "text": [
      "Index(['phil_A', 'phob_A', 'phil_G', 'phob_G', 'phil_V', 'phob_V', 'phil_L',\n",
      "       'phob_L', 'phil_I', 'phob_I', 'phil_F', 'phob_F', 'phil_W', 'phob_W',\n",
      "       'phil_M', 'phob_M', 'phil_Y', 'phob_Y', 'phil_C', 'phob_C', 'phil_S',\n",
      "       'phob_S', 'phil_T', 'phob_T', 'phil_R', 'phob_R', 'phil_K', 'phob_K',\n",
      "       'phil_N', 'phob_N', 'phil_Q', 'phob_Q', 'phil_D', 'phob_D', 'phil_E',\n",
      "       'phob_E', 'phil_H', 'phob_H', 'phil_P', 'phob_P'],\n",
      "      dtype='object') \n",
      "\n",
      "Index(['phil_S_T', 'phil_R_K', 'phil_L_I', 'phil_F_W', 'phil_M_C', 'phil_D_E',\n",
      "       'phil_N_Q', 'phob_S_T', 'phob_R_K', 'phob_L_I', 'phob_F_W', 'phob_M_C',\n",
      "       'phob_D_E', 'phob_N_Q'],\n",
      "      dtype='object')\n"
     ]
    }
   ],
   "source": [
    "# column definitions\n",
    "columns_AAcomp = df.columns[6:46]\n",
    "print(columns_AAcomp, '\\n')\n",
    "\n",
    "columns_AAcomp_subgrouped = df.columns[-14:]\n",
    "print(columns_AAcomp_subgrouped)"
   ]
  },
  {
   "cell_type": "code",
   "execution_count": 17,
   "metadata": {},
   "outputs": [],
   "source": [
    "# Choose features and target\n",
    "x_columns = columns_AAcomp_subgrouped\n",
    "y_column = 'Median'\n",
    "y_train = df[y_column]\n",
    "X_train = df[x_columns]"
   ]
  },
  {
   "cell_type": "code",
   "execution_count": 18,
   "metadata": {},
   "outputs": [
    {
     "name": "stdout",
     "output_type": "stream",
     "text": [
      "                 Generalized Linear Model Regression Results                  \n",
      "==============================================================================\n",
      "Dep. Variable:                 Median   No. Observations:                   39\n",
      "Model:                            GLM   Df Residuals:                       25\n",
      "Model Family:                   Gamma   Df Model:                           13\n",
      "Link Function:           InversePower   Scale:                         0.23208\n",
      "Method:                          IRLS   Log-Likelihood:                -11.166\n",
      "Date:                Wed, 12 Mar 2025   Deviance:                       5.5889\n",
      "Time:                        12:12:28   Pearson chi2:                     5.80\n",
      "No. Iterations:                     7   Pseudo R-squ. (CS):             0.5326\n",
      "Covariance Type:            nonrobust                                         \n",
      "==============================================================================\n",
      "                 coef    std err          z      P>|z|      [0.025      0.975]\n",
      "------------------------------------------------------------------------------\n",
      "phil_S_T      -0.7441      0.708     -1.050      0.294      -2.133       0.644\n",
      "phil_R_K       1.8801      0.590      3.187      0.001       0.724       3.036\n",
      "phil_L_I      -0.6050      1.209     -0.500      0.617      -2.975       1.766\n",
      "phil_F_W      -0.6387      1.058     -0.604      0.546      -2.712       1.435\n",
      "phil_M_C      -2.0775      2.139     -0.971      0.331      -6.269       2.114\n",
      "phil_D_E       0.9778      1.005      0.973      0.331      -0.993       2.948\n",
      "phil_N_Q       1.6352      1.015      1.611      0.107      -0.355       3.625\n",
      "phob_S_T       0.5664      1.115      0.508      0.612      -1.620       2.753\n",
      "phob_R_K       1.9196      1.538      1.248      0.212      -1.094       4.934\n",
      "phob_L_I       0.7869      0.527      1.493      0.135      -0.246       1.820\n",
      "phob_F_W       0.7673      0.788      0.974      0.330      -0.777       2.312\n",
      "phob_M_C       0.9809      1.142      0.859      0.390      -1.257       3.219\n",
      "phob_D_E       4.2608      3.164      1.347      0.178      -1.940      10.461\n",
      "phob_N_Q      -2.2080      1.367     -1.615      0.106      -4.887       0.471\n",
      "==============================================================================\n",
      "0     0.818158\n",
      "1     0.763593\n",
      "2     0.583812\n",
      "3     0.989576\n",
      "4     0.547744\n",
      "5     0.662835\n",
      "6     0.685948\n",
      "7     0.415170\n",
      "8     0.472763\n",
      "9     0.995773\n",
      "10    0.639488\n",
      "11    1.112290\n",
      "12    1.160245\n",
      "13    0.466894\n",
      "14    0.536303\n",
      "15    0.665040\n",
      "16    1.015041\n",
      "17    1.190594\n",
      "18    0.694762\n",
      "19    1.057852\n",
      "20    1.076914\n",
      "21    1.184193\n",
      "22    0.591357\n",
      "23    1.591233\n",
      "24    0.733784\n",
      "25    3.542315\n",
      "26    0.943664\n",
      "27    0.569623\n",
      "28    0.994007\n",
      "29    0.878863\n",
      "30    1.910919\n",
      "31    0.670208\n",
      "32    1.218162\n",
      "33    1.039312\n",
      "34    1.332482\n",
      "35    1.224744\n",
      "36    1.053305\n",
      "37    0.530971\n",
      "38    0.441262\n",
      "dtype: float64\n"
     ]
    },
    {
     "name": "stderr",
     "output_type": "stream",
     "text": [
      "/opt/anaconda3/envs/py312/lib/python3.12/site-packages/statsmodels/genmod/generalized_linear_model.py:308: DomainWarning: The InversePower link function does not respect the domain of the Gamma family.\n",
      "  warnings.warn((f\"The {type(family.link).__name__} link function \"\n"
     ]
    }
   ],
   "source": [
    "# Basic GLM\n",
    "import statsmodels.api as sm\n",
    "import numpy as np\n",
    "\n",
    "# Load sample data from scotland dataset\n",
    "y = df[y_column]\n",
    "X = df[x_columns]\n",
    "# X = sm.add_constant(X)\n",
    "\n",
    "# Fit GLM with Gamma family\n",
    "gamma_model = sm.GLM(y, X, family=sm.families.Gamma())\n",
    "gamma_results = gamma_model.fit()\n",
    "\n",
    "# Print results\n",
    "print(gamma_results.summary())\n",
    "\n",
    "# Predictions\n",
    "predictions = gamma_results.predict(X)\n",
    "print(predictions)"
   ]
  },
  {
   "cell_type": "code",
   "execution_count": 19,
   "metadata": {},
   "outputs": [
    {
     "name": "stdout",
     "output_type": "stream",
     "text": [
      "                 Generalized Linear Model Regression Results                  \n",
      "==============================================================================\n",
      "Dep. Variable:                 Median   No. Observations:                   39\n",
      "Model:                            GLM   Df Residuals:                       25\n",
      "Model Family:                 Poisson   Df Model:                           13\n",
      "Link Function:                    Log   Scale:                          1.0000\n",
      "Method:                          IRLS   Log-Likelihood:                -39.158\n",
      "Date:                Wed, 12 Mar 2025   Deviance:                       7.1164\n",
      "Time:                        12:13:49   Pearson chi2:                     7.41\n",
      "No. Iterations:                     5   Pseudo R-squ. (CS):             0.1750\n",
      "Covariance Type:            nonrobust                                         \n",
      "==============================================================================\n",
      "                 coef    std err          z      P>|z|      [0.025      0.975]\n",
      "------------------------------------------------------------------------------\n",
      "phil_S_T       1.2331      1.360      0.907      0.365      -1.432       3.898\n",
      "phil_R_K      -0.9653      1.232     -0.784      0.433      -3.380       1.449\n",
      "phil_L_I       1.5904      2.427      0.655      0.512      -3.166       6.347\n",
      "phil_F_W       1.7448      2.213      0.789      0.430      -2.592       6.082\n",
      "phil_M_C       2.6896      4.695      0.573      0.567      -6.513      11.892\n",
      "phil_D_E      -0.5083      2.043     -0.249      0.804      -4.513       3.496\n",
      "phil_N_Q      -0.7752      1.992     -0.389      0.697      -4.680       3.129\n",
      "phob_S_T       0.3387      2.308      0.147      0.883      -4.185       4.862\n",
      "phob_R_K      -1.4429      2.908     -0.496      0.620      -7.143       4.257\n",
      "phob_L_I      -0.3543      0.976     -0.363      0.717      -2.268       1.559\n",
      "phob_F_W       0.0366      1.571      0.023      0.981      -3.042       3.115\n",
      "phob_M_C      -1.0114      2.234     -0.453      0.651      -5.390       3.367\n",
      "phob_D_E      -2.7352      5.618     -0.487      0.626     -13.747       8.277\n",
      "phob_N_Q       3.4041      2.973      1.145      0.252      -2.424       9.232\n",
      "==============================================================================\n",
      "0     0.700429\n",
      "1     1.009734\n",
      "2     0.523009\n",
      "3     0.950498\n",
      "4     0.506299\n",
      "5     0.785573\n",
      "6     0.620395\n",
      "7     0.400214\n",
      "8     0.453601\n",
      "9     0.891566\n",
      "10    0.671066\n",
      "11    1.098315\n",
      "12    1.237693\n",
      "13    0.404527\n",
      "14    0.457101\n",
      "15    0.674000\n",
      "16    1.197899\n",
      "17    1.291162\n",
      "18    0.686615\n",
      "19    0.782558\n",
      "20    1.073078\n",
      "21    0.939061\n",
      "22    0.696044\n",
      "23    1.642998\n",
      "24    1.145468\n",
      "25    2.734684\n",
      "26    1.113868\n",
      "27    0.435520\n",
      "28    1.443991\n",
      "29    0.776616\n",
      "30    1.443864\n",
      "31    0.629910\n",
      "32    1.500898\n",
      "33    1.052773\n",
      "34    0.986552\n",
      "35    1.277296\n",
      "36    1.124313\n",
      "37    0.531189\n",
      "38    0.396715\n",
      "dtype: float64\n"
     ]
    }
   ],
   "source": [
    "# Basic GLM with Poisson\n",
    "import statsmodels.api as sm\n",
    "import numpy as np\n",
    "\n",
    "# Load sample data from scotland dataset\n",
    "y = df[y_column]\n",
    "X = df[x_columns]\n",
    "# X = sm.add_constant(X)\n",
    "\n",
    "# Fit GLM with Gamma family\n",
    "gamma_model = sm.GLM(y, X, family=sm.families.Poisson())\n",
    "gamma_results = gamma_model.fit()\n",
    "\n",
    "# Print results\n",
    "print(gamma_results.summary())\n",
    "\n",
    "# Predictions\n",
    "predictions = gamma_results.predict(X)\n",
    "print(predictions)"
   ]
  },
  {
   "cell_type": "code",
   "execution_count": null,
   "metadata": {},
   "outputs": [],
   "source": []
  }
 ],
 "metadata": {
  "kernelspec": {
   "display_name": "py312",
   "language": "python",
   "name": "python3"
  },
  "language_info": {
   "codemirror_mode": {
    "name": "ipython",
    "version": 3
   },
   "file_extension": ".py",
   "mimetype": "text/x-python",
   "name": "python",
   "nbconvert_exporter": "python",
   "pygments_lexer": "ipython3",
   "version": "3.12.9"
  }
 },
 "nbformat": 4,
 "nbformat_minor": 2
}
