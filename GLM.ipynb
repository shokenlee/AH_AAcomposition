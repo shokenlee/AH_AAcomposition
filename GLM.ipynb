{
 "cells": [
  {
   "cell_type": "code",
   "execution_count": 2,
   "metadata": {},
   "outputs": [],
   "source": [
    "import statsmodels.api as sm\n",
    "import numpy as np\n",
    "import pandas as pd\n",
    "import matplotlib.pyplot as plt\n",
    "import seaborn as sns"
   ]
  },
  {
   "cell_type": "code",
   "execution_count": 3,
   "metadata": {},
   "outputs": [],
   "source": [
    "df = pd.read_csv('./Output/NEES_summary_with_heliquest.csv')"
   ]
  },
  {
   "cell_type": "code",
   "execution_count": 4,
   "metadata": {},
   "outputs": [
    {
     "name": "stdout",
     "output_type": "stream",
     "text": [
      "Index(['AA_seq', 'AH', 'Median', 'Mean', 'Organelle', 'Median_Response',\n",
      "       'phil_A', 'phob_A', 'phil_G', 'phob_G', 'phil_V', 'phob_V', 'phil_L',\n",
      "       'phob_L', 'phil_I', 'phob_I', 'phil_F', 'phob_F', 'phil_W', 'phob_W',\n",
      "       'phil_M', 'phob_M', 'phil_Y', 'phob_Y', 'phil_C', 'phob_C', 'phil_S',\n",
      "       'phob_S', 'phil_T', 'phob_T', 'phil_R', 'phob_R', 'phil_K', 'phob_K',\n",
      "       'phil_N', 'phob_N', 'phil_Q', 'phob_Q', 'phil_D', 'phob_D', 'phil_E',\n",
      "       'phob_E', 'phil_H', 'phob_H', 'phil_P', 'phob_P', 'Length',\n",
      "       'Hydrophobicity', 'H_moment', 'Netcharge', 'Dfactor'],\n",
      "      dtype='object')\n"
     ]
    }
   ],
   "source": [
    "print(df.columns)"
   ]
  },
  {
   "cell_type": "code",
   "execution_count": 5,
   "metadata": {},
   "outputs": [
    {
     "name": "stdout",
     "output_type": "stream",
     "text": [
      "Index(['Length', 'Hydrophobicity', 'H_moment', 'Netcharge', 'Dfactor'], dtype='object')\n",
      "Index(['phil_A', 'phob_A', 'phil_G', 'phob_G', 'phil_V', 'phob_V', 'phil_L',\n",
      "       'phob_L', 'phil_I', 'phob_I', 'phil_F', 'phob_F', 'phil_W', 'phob_W',\n",
      "       'phil_M', 'phob_M', 'phil_Y', 'phob_Y', 'phil_C', 'phob_C', 'phil_S',\n",
      "       'phob_S', 'phil_T', 'phob_T', 'phil_R', 'phob_R', 'phil_K', 'phob_K',\n",
      "       'phil_N', 'phob_N', 'phil_Q', 'phob_Q', 'phil_D', 'phob_D', 'phil_E',\n",
      "       'phob_E', 'phil_H', 'phob_H', 'phil_P', 'phob_P'],\n",
      "      dtype='object')\n",
      "Index(['phil_A', 'phil_G', 'phil_V', 'phil_L', 'phil_I', 'phil_F', 'phil_W',\n",
      "       'phil_M', 'phil_Y', 'phil_C', 'phil_S', 'phil_T', 'phil_R', 'phil_K',\n",
      "       'phil_N', 'phil_Q', 'phil_D', 'phil_E', 'phil_H', 'phil_P'],\n",
      "      dtype='object')\n",
      "Index(['phob_A', 'phob_G', 'phob_V', 'phob_L', 'phob_I', 'phob_F', 'phob_W',\n",
      "       'phob_M', 'phob_Y', 'phob_C', 'phob_S', 'phob_T', 'phob_R', 'phob_K',\n",
      "       'phob_N', 'phob_Q', 'phob_D', 'phob_E', 'phob_H', 'phob_P'],\n",
      "      dtype='object')\n"
     ]
    }
   ],
   "source": [
    "# column definitions\n",
    "columns_heliquet =  df.columns[-5:]\n",
    "print(columns_heliquet)\n",
    "columns_AAcomp = df.columns[6:-5]\n",
    "print(columns_AAcomp)\n",
    "columns_AAcomp_phil = columns_AAcomp[list(range(0, len(columns_AAcomp), 2))]\n",
    "print(columns_AAcomp_phil)\n",
    "columns_AAcomp_phob = columns_AAcomp[list(range(1, len(columns_AAcomp), 2))]\n",
    "print(columns_AAcomp_phob)"
   ]
  },
  {
   "cell_type": "code",
   "execution_count": 6,
   "metadata": {},
   "outputs": [],
   "source": [
    "# Choose features and target\n",
    "x_columns = columns_AAcomp_phil\n",
    "y_column = 'Median'\n",
    "y_train = df[y_column]\n",
    "X_train = df[x_columns]"
   ]
  },
  {
   "cell_type": "code",
   "execution_count": 7,
   "metadata": {},
   "outputs": [
    {
     "name": "stdout",
     "output_type": "stream",
     "text": [
      "                 Generalized Linear Model Regression Results                  \n",
      "==============================================================================\n",
      "Dep. Variable:                 Median   No. Observations:                   38\n",
      "Model:                            GLM   Df Residuals:                       18\n",
      "Model Family:                   Gamma   Df Model:                           19\n",
      "Link Function:           InversePower   Scale:                         0.20711\n",
      "Method:                          IRLS   Log-Likelihood:                 2.1451\n",
      "Date:                Tue, 04 Mar 2025   Deviance:                       3.2444\n",
      "Time:                        17:32:28   Pearson chi2:                     3.73\n",
      "No. Iterations:                     8   Pseudo R-squ. (CS):             0.6364\n",
      "Covariance Type:            nonrobust                                         \n",
      "==============================================================================\n",
      "                 coef    std err          z      P>|z|      [0.025      0.975]\n",
      "------------------------------------------------------------------------------\n",
      "phil_A        -0.0422      1.798     -0.023      0.981      -3.566       3.482\n",
      "phil_G         3.6269      2.414      1.502      0.133      -1.104       8.358\n",
      "phil_V         7.1055      4.368      1.627      0.104      -1.456      15.667\n",
      "phil_L         0.4625      2.266      0.204      0.838      -3.980       4.905\n",
      "phil_I        -5.0287      3.220     -1.562      0.118     -11.340       1.283\n",
      "phil_F        -2.7534      1.515     -1.818      0.069      -5.722       0.215\n",
      "phil_W         0.6170      4.553      0.136      0.892      -8.307       9.541\n",
      "phil_M        -6.2513      2.915     -2.145      0.032     -11.964      -0.538\n",
      "phil_Y         2.2859      2.500      0.915      0.360      -2.613       7.185\n",
      "phil_C         4.1785      4.810      0.869      0.385      -5.248      13.605\n",
      "phil_S         0.5581      1.087      0.513      0.608      -1.573       2.689\n",
      "phil_T        -0.2645      1.994     -0.133      0.894      -4.173       3.644\n",
      "phil_R         3.0640      1.010      3.032      0.002       1.084       5.044\n",
      "phil_K         4.0832      1.513      2.699      0.007       1.118       7.048\n",
      "phil_N        -2.3856      2.274     -1.049      0.294      -6.843       2.072\n",
      "phil_Q         1.5131      1.946      0.778      0.437      -2.300       5.326\n",
      "phil_D         3.2422      2.176      1.490      0.136      -1.022       7.507\n",
      "phil_E         1.2337      1.424      0.866      0.386      -1.557       4.025\n",
      "phil_H        -0.1226      2.038     -0.060      0.952      -4.117       3.872\n",
      "phil_P         4.6633      4.103      1.136      0.256      -3.379      12.706\n",
      "==============================================================================\n",
      "0     0.775088\n",
      "1     0.871218\n",
      "2     0.503771\n",
      "3     1.607772\n",
      "4     0.614456\n",
      "5     0.631336\n",
      "6     0.528225\n",
      "7     0.316303\n",
      "8     0.377953\n",
      "9     0.548968\n",
      "10    0.525861\n",
      "11    1.122024\n",
      "12    0.462008\n",
      "13    0.662048\n",
      "14    0.773855\n",
      "15    0.989338\n",
      "16    0.783761\n",
      "17    0.587400\n",
      "18    0.577780\n",
      "19    0.933134\n",
      "20    0.641648\n",
      "21    0.497450\n",
      "22    1.468265\n",
      "23    0.692357\n",
      "24    2.610466\n",
      "25    0.657842\n",
      "26    0.413629\n",
      "27    0.442113\n",
      "28    0.504944\n",
      "29    1.315534\n",
      "30    0.803687\n",
      "31    0.429295\n",
      "32    0.646639\n",
      "33    0.639386\n",
      "34    1.314491\n",
      "35    0.786834\n",
      "36    0.545262\n",
      "37    0.596819\n",
      "dtype: float64\n"
     ]
    },
    {
     "name": "stderr",
     "output_type": "stream",
     "text": [
      "/opt/anaconda3/envs/py312/lib/python3.12/site-packages/statsmodels/genmod/generalized_linear_model.py:308: DomainWarning: The InversePower link function does not respect the domain of the Gamma family.\n",
      "  warnings.warn((f\"The {type(family.link).__name__} link function \"\n"
     ]
    }
   ],
   "source": [
    "# Basic GLM\n",
    "import statsmodels.api as sm\n",
    "import numpy as np\n",
    "\n",
    "# Load sample data from scotland dataset\n",
    "y = df[y_column]\n",
    "X = df[x_columns]\n",
    "# X = sm.add_constant(X)\n",
    "\n",
    "# Fit GLM with Gamma family\n",
    "gamma_model = sm.GLM(y, X, family=sm.families.Gamma())\n",
    "gamma_results = gamma_model.fit()\n",
    "\n",
    "# Print results\n",
    "print(gamma_results.summary())\n",
    "\n",
    "# Predictions\n",
    "predictions = gamma_results.predict(X)\n",
    "print(predictions)"
   ]
  },
  {
   "cell_type": "code",
   "execution_count": 8,
   "metadata": {},
   "outputs": [
    {
     "name": "stdout",
     "output_type": "stream",
     "text": [
      "                 Generalized Linear Model Regression Results                  \n",
      "==============================================================================\n",
      "Dep. Variable:                 Median   No. Observations:                   38\n",
      "Model:                            GLM   Df Residuals:                       18\n",
      "Model Family:                 Poisson   Df Model:                           19\n",
      "Link Function:                    Log   Scale:                          1.0000\n",
      "Method:                          IRLS   Log-Likelihood:                -33.748\n",
      "Date:                Tue, 04 Mar 2025   Deviance:                       3.5477\n",
      "Time:                        17:32:29   Pearson chi2:                     3.82\n",
      "No. Iterations:                     5   Pseudo R-squ. (CS):             0.1624\n",
      "Covariance Type:            nonrobust                                         \n",
      "==============================================================================\n",
      "                 coef    std err          z      P>|z|      [0.025      0.975]\n",
      "------------------------------------------------------------------------------\n",
      "phil_A         0.8441      3.270      0.258      0.796      -5.566       7.254\n",
      "phil_G        -2.3811      4.277     -0.557      0.578     -10.763       6.001\n",
      "phil_V        -5.3084      8.506     -0.624      0.533     -21.979      11.362\n",
      "phil_L         0.3812      3.897      0.098      0.922      -7.257       8.019\n",
      "phil_I         5.6745      6.419      0.884      0.377      -6.907      18.256\n",
      "phil_F         3.0432      3.108      0.979      0.328      -3.049       9.135\n",
      "phil_W        -1.1478      8.346     -0.138      0.891     -17.506      15.210\n",
      "phil_M         7.5576      6.005      1.259      0.208      -4.211      19.326\n",
      "phil_Y        -0.8232      4.320     -0.191      0.849      -9.290       7.644\n",
      "phil_C        -2.3356      8.463     -0.276      0.783     -18.923      14.252\n",
      "phil_S         0.4914      1.986      0.247      0.805      -3.402       4.384\n",
      "phil_T         0.4155      3.695      0.112      0.910      -6.827       7.658\n",
      "phil_R        -1.5102      1.791     -0.843      0.399      -5.020       2.000\n",
      "phil_K        -1.8277      2.696     -0.678      0.498      -7.112       3.457\n",
      "phil_N         1.9768      4.452      0.444      0.657      -6.749      10.702\n",
      "phil_Q        -0.5043      3.553     -0.142      0.887      -7.468       6.460\n",
      "phil_D        -1.3747      3.956     -0.347      0.728      -9.129       6.380\n",
      "phil_E        -0.1982      2.591     -0.077      0.939      -5.276       4.880\n",
      "phil_H         0.7834      3.827      0.205      0.838      -6.717       8.284\n",
      "phil_P        -2.3807      6.816     -0.349      0.727     -15.739      10.978\n",
      "==============================================================================\n",
      "0     0.859047\n",
      "1     0.818425\n",
      "2     0.470518\n",
      "3     1.622166\n",
      "4     0.640575\n",
      "5     0.648011\n",
      "6     0.543797\n",
      "7     0.237873\n",
      "8     0.284716\n",
      "9     0.622185\n",
      "10    0.584852\n",
      "11    1.320246\n",
      "12    0.464706\n",
      "13    0.647254\n",
      "14    0.838441\n",
      "15    1.074606\n",
      "16    0.849928\n",
      "17    0.596364\n",
      "18    0.570749\n",
      "19    0.822436\n",
      "20    0.621160\n",
      "21    0.477240\n",
      "22    1.439332\n",
      "23    0.737964\n",
      "24    2.327349\n",
      "25    0.750108\n",
      "26    0.381210\n",
      "27    0.400554\n",
      "28    0.467923\n",
      "29    1.283324\n",
      "30    0.796381\n",
      "31    0.374122\n",
      "32    0.686686\n",
      "33    0.686506\n",
      "34    1.173379\n",
      "35    0.847973\n",
      "36    0.593507\n",
      "37    0.638153\n",
      "dtype: float64\n"
     ]
    }
   ],
   "source": [
    "# Basic GLM with Poisson\n",
    "import statsmodels.api as sm\n",
    "import numpy as np\n",
    "\n",
    "# Load sample data from scotland dataset\n",
    "y = df[y_column]\n",
    "X = df[x_columns]\n",
    "# X = sm.add_constant(X)\n",
    "\n",
    "# Fit GLM with Gamma family\n",
    "gamma_model = sm.GLM(y, X, family=sm.families.Poisson())\n",
    "gamma_results = gamma_model.fit()\n",
    "\n",
    "# Print results\n",
    "print(gamma_results.summary())\n",
    "\n",
    "# Predictions\n",
    "predictions = gamma_results.predict(X)\n",
    "print(predictions)"
   ]
  },
  {
   "cell_type": "code",
   "execution_count": null,
   "metadata": {},
   "outputs": [],
   "source": []
  }
 ],
 "metadata": {
  "kernelspec": {
   "display_name": "py312",
   "language": "python",
   "name": "python3"
  },
  "language_info": {
   "codemirror_mode": {
    "name": "ipython",
    "version": 3
   },
   "file_extension": ".py",
   "mimetype": "text/x-python",
   "name": "python",
   "nbconvert_exporter": "python",
   "pygments_lexer": "ipython3",
   "version": "3.12.9"
  }
 },
 "nbformat": 4,
 "nbformat_minor": 2
}
