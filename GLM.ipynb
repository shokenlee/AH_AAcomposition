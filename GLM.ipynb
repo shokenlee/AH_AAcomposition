{
 "cells": [
  {
   "cell_type": "code",
   "execution_count": 1,
   "metadata": {},
   "outputs": [],
   "source": [
    "import statsmodels.api as sm\n",
    "import numpy as np\n",
    "import pandas as pd\n",
    "import matplotlib.pyplot as plt\n",
    "import seaborn as sns"
   ]
  },
  {
   "cell_type": "code",
   "execution_count": null,
   "metadata": {},
   "outputs": [],
   "source": [
    "df = pd.read_csv('./Output/NEES_summary_with_heliquest.csv')"
   ]
  },
  {
   "cell_type": "code",
   "execution_count": null,
   "metadata": {},
   "outputs": [
    {
     "name": "stdout",
     "output_type": "stream",
     "text": [
      "Index(['AA_seq', 'AH', 'Median', 'Mean', 'Organelle', 'Median_Response',\n",
      "       'phil_A', 'phob_A', 'phil_G', 'phob_G', 'phil_V', 'phob_V', 'phil_L',\n",
      "       'phob_L', 'phil_I', 'phob_I', 'phil_F', 'phob_F', 'phil_W', 'phob_W',\n",
      "       'phil_M', 'phob_M', 'phil_Y', 'phob_Y', 'phil_C', 'phob_C', 'phil_S',\n",
      "       'phob_S', 'phil_T', 'phob_T', 'phil_R', 'phob_R', 'phil_K', 'phob_K',\n",
      "       'phil_N', 'phob_N', 'phil_Q', 'phob_Q', 'phil_D', 'phob_D', 'phil_E',\n",
      "       'phob_E', 'phil_H', 'phob_H', 'phil_P', 'phob_P', 'Length',\n",
      "       'Hydrophobicity', 'H_moment', 'Netcharge', 'Dfactor'],\n",
      "      dtype='object')\n"
     ]
    }
   ],
   "source": [
    "print(df.columns)"
   ]
  },
  {
   "cell_type": "code",
   "execution_count": null,
   "metadata": {},
   "outputs": [
    {
     "name": "stdout",
     "output_type": "stream",
     "text": [
      "Index(['Length', 'Hydrophobicity', 'H_moment', 'Netcharge', 'Dfactor'], dtype='object')\n",
      "Index(['phil_A', 'phob_A', 'phil_G', 'phob_G', 'phil_V', 'phob_V', 'phil_L',\n",
      "       'phob_L', 'phil_I', 'phob_I', 'phil_F', 'phob_F', 'phil_W', 'phob_W',\n",
      "       'phil_M', 'phob_M', 'phil_Y', 'phob_Y', 'phil_C', 'phob_C', 'phil_S',\n",
      "       'phob_S', 'phil_T', 'phob_T', 'phil_R', 'phob_R', 'phil_K', 'phob_K',\n",
      "       'phil_N', 'phob_N', 'phil_Q', 'phob_Q', 'phil_D', 'phob_D', 'phil_E',\n",
      "       'phob_E', 'phil_H', 'phob_H', 'phil_P', 'phob_P'],\n",
      "      dtype='object')\n",
      "Index(['phil_A', 'phil_G', 'phil_V', 'phil_L', 'phil_I', 'phil_F', 'phil_W',\n",
      "       'phil_M', 'phil_Y', 'phil_C', 'phil_S', 'phil_T', 'phil_R', 'phil_K',\n",
      "       'phil_N', 'phil_Q', 'phil_D', 'phil_E', 'phil_H', 'phil_P'],\n",
      "      dtype='object')\n",
      "Index(['phob_A', 'phob_G', 'phob_V', 'phob_L', 'phob_I', 'phob_F', 'phob_W',\n",
      "       'phob_M', 'phob_Y', 'phob_C', 'phob_S', 'phob_T', 'phob_R', 'phob_K',\n",
      "       'phob_N', 'phob_Q', 'phob_D', 'phob_E', 'phob_H', 'phob_P'],\n",
      "      dtype='object')\n"
     ]
    }
   ],
   "source": [
    "# column definitions\n",
    "columns_heliquet =  df.columns[-5:]\n",
    "print(columns_heliquet)\n",
    "columns_AAcomp = df.columns[6:-5]\n",
    "print(columns_AAcomp)\n",
    "columns_AAcomp_phil = columns_AAcomp[list(range(0, len(columns_AAcomp), 2))]\n",
    "print(columns_AAcomp_phil)\n",
    "columns_AAcomp_phob = columns_AAcomp[list(range(1, len(columns_AAcomp), 2))]\n",
    "print(columns_AAcomp_phob)"
   ]
  }
 ],
 "metadata": {
  "kernelspec": {
   "display_name": "py312",
   "language": "python",
   "name": "python3"
  },
  "language_info": {
   "codemirror_mode": {
    "name": "ipython",
    "version": 3
   },
   "file_extension": ".py",
   "mimetype": "text/x-python",
   "name": "python",
   "nbconvert_exporter": "python",
   "pygments_lexer": "ipython3",
   "version": "3.12.9"
  }
 },
 "nbformat": 4,
 "nbformat_minor": 2
}
