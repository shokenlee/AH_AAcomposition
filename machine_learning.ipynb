{
 "cells": [
  {
   "cell_type": "code",
   "execution_count": 2,
   "metadata": {},
   "outputs": [],
   "source": [
    "import pandas as pd\n",
    "import matplotlib.pyplot as plt\n",
    "from sklearn.discriminant_analysis import LinearDiscriminantAnalysis\n",
    "from sklearn.preprocessing import StandardScaler"
   ]
  },
  {
   "cell_type": "code",
   "execution_count": 14,
   "metadata": {},
   "outputs": [],
   "source": [
    "df = pd.read_csv('Output/NEES_summary_with_heliquest.csv')"
   ]
  },
  {
   "cell_type": "code",
   "execution_count": 15,
   "metadata": {},
   "outputs": [
    {
     "data": {
      "application/vnd.microsoft.datawrangler.viewer.v0+json": {
       "columns": [
        {
         "name": "index",
         "rawType": "int64",
         "type": "integer"
        },
        {
         "name": "AA_seq",
         "rawType": "object",
         "type": "string"
        },
        {
         "name": "AH",
         "rawType": "object",
         "type": "string"
        },
        {
         "name": "Median",
         "rawType": "float64",
         "type": "float"
        },
        {
         "name": "Mean",
         "rawType": "float64",
         "type": "float"
        },
        {
         "name": "Organelle",
         "rawType": "int64",
         "type": "integer"
        },
        {
         "name": "Median_Response",
         "rawType": "object",
         "type": "string"
        },
        {
         "name": "phil_A",
         "rawType": "float64",
         "type": "float"
        },
        {
         "name": "phob_A",
         "rawType": "float64",
         "type": "float"
        },
        {
         "name": "phil_G",
         "rawType": "float64",
         "type": "float"
        },
        {
         "name": "phob_G",
         "rawType": "float64",
         "type": "float"
        },
        {
         "name": "phil_V",
         "rawType": "float64",
         "type": "float"
        },
        {
         "name": "phob_V",
         "rawType": "float64",
         "type": "float"
        },
        {
         "name": "phil_L",
         "rawType": "float64",
         "type": "float"
        },
        {
         "name": "phob_L",
         "rawType": "float64",
         "type": "float"
        },
        {
         "name": "phil_I",
         "rawType": "float64",
         "type": "float"
        },
        {
         "name": "phob_I",
         "rawType": "float64",
         "type": "float"
        },
        {
         "name": "phil_F",
         "rawType": "float64",
         "type": "float"
        },
        {
         "name": "phob_F",
         "rawType": "float64",
         "type": "float"
        },
        {
         "name": "phil_W",
         "rawType": "float64",
         "type": "float"
        },
        {
         "name": "phob_W",
         "rawType": "float64",
         "type": "float"
        },
        {
         "name": "phil_M",
         "rawType": "float64",
         "type": "float"
        },
        {
         "name": "phob_M",
         "rawType": "float64",
         "type": "float"
        },
        {
         "name": "phil_Y",
         "rawType": "float64",
         "type": "float"
        },
        {
         "name": "phob_Y",
         "rawType": "float64",
         "type": "float"
        },
        {
         "name": "phil_C",
         "rawType": "float64",
         "type": "float"
        },
        {
         "name": "phob_C",
         "rawType": "float64",
         "type": "float"
        },
        {
         "name": "phil_S",
         "rawType": "float64",
         "type": "float"
        },
        {
         "name": "phob_S",
         "rawType": "float64",
         "type": "float"
        },
        {
         "name": "phil_T",
         "rawType": "float64",
         "type": "float"
        },
        {
         "name": "phob_T",
         "rawType": "float64",
         "type": "float"
        },
        {
         "name": "phil_R",
         "rawType": "float64",
         "type": "float"
        },
        {
         "name": "phob_R",
         "rawType": "float64",
         "type": "float"
        },
        {
         "name": "phil_K",
         "rawType": "float64",
         "type": "float"
        },
        {
         "name": "phob_K",
         "rawType": "float64",
         "type": "float"
        },
        {
         "name": "phil_N",
         "rawType": "float64",
         "type": "float"
        },
        {
         "name": "phob_N",
         "rawType": "float64",
         "type": "float"
        },
        {
         "name": "phil_Q",
         "rawType": "float64",
         "type": "float"
        },
        {
         "name": "phob_Q",
         "rawType": "float64",
         "type": "float"
        },
        {
         "name": "phil_D",
         "rawType": "float64",
         "type": "float"
        },
        {
         "name": "phob_D",
         "rawType": "float64",
         "type": "float"
        },
        {
         "name": "phil_E",
         "rawType": "float64",
         "type": "float"
        },
        {
         "name": "phob_E",
         "rawType": "float64",
         "type": "float"
        },
        {
         "name": "phil_H",
         "rawType": "float64",
         "type": "float"
        },
        {
         "name": "phob_H",
         "rawType": "float64",
         "type": "float"
        },
        {
         "name": "phil_P",
         "rawType": "float64",
         "type": "float"
        },
        {
         "name": "phob_P",
         "rawType": "float64",
         "type": "float"
        },
        {
         "name": "Length",
         "rawType": "float64",
         "type": "float"
        },
        {
         "name": "Hydrophobicity",
         "rawType": "float64",
         "type": "float"
        },
        {
         "name": "H_moment",
         "rawType": "float64",
         "type": "float"
        },
        {
         "name": "Netcharge",
         "rawType": "float64",
         "type": "float"
        },
        {
         "name": "Dfactor",
         "rawType": "float64",
         "type": "float"
        }
       ],
       "conversionMethod": "pd.DataFrame",
       "ref": "b9552a20-8e70-445e-96ed-4232d7270ac0",
       "rows": [
        [
         "0",
         "EHPIQWLYITCRKVCKG",
         "nemp1",
         "0.488",
         "0.4955",
         "4",
         "No Response",
         "0.0",
         "0.0",
         "0.0",
         "0.11",
         "0.0",
         "0.11",
         "0.0",
         "0.11",
         "0.11",
         "0.11",
         "0.0",
         "0.0",
         "0.11",
         "0.0",
         "0.0",
         "0.0",
         "0.11",
         "0.0",
         "0.0",
         "0.22",
         "0.0",
         "0.0",
         "0.0",
         "0.11",
         "0.11",
         "0.0",
         "0.22",
         "0.0",
         "0.0",
         "0.0",
         "0.11",
         "0.0",
         "0.0",
         "0.0",
         "0.11",
         "0.0",
         "0.11",
         "0.0",
         "0.0",
         "0.11",
         "17.0",
         "0.592",
         "0.3728062140373763",
         "2.0",
         "1.012"
        ],
        [
         "1",
         "VSEFMTRLFS",
         "emc7",
         "0.8205",
         "0.8141999999999999",
         "1",
         "High",
         "0.0",
         "0.0",
         "0.0",
         "0.0",
         "0.0",
         "0.25",
         "0.0",
         "0.25",
         "0.0",
         "0.0",
         "0.0",
         "0.5",
         "0.0",
         "0.0",
         "0.0",
         "0.25",
         "0.0",
         "0.0",
         "0.0",
         "0.0",
         "0.25",
         "0.25",
         "0.25",
         "0.0",
         "0.25",
         "0.0",
         "0.0",
         "0.0",
         "0.0",
         "0.0",
         "0.0",
         "0.0",
         "0.0",
         "0.0",
         "0.25",
         "0.0",
         "0.0",
         "0.0",
         "0.0",
         "0.0",
         "10.0",
         "0.626",
         "0.6143528938713448",
         "0.0",
         "0.58"
        ],
        [
         "2",
         "RGLWEKCQEYLRKINRDIAQLLTH",
         "scai",
         "1.09",
         "1.0982380952380957",
         "3",
         "Very High",
         "0.08",
         "0.0",
         "0.08",
         "0.0",
         "0.0",
         "0.0",
         "0.0",
         "0.31",
         "0.0",
         "0.15",
         "0.0",
         "0.0",
         "0.0",
         "0.08",
         "0.0",
         "0.0",
         "0.0",
         "0.08",
         "0.0",
         "0.08",
         "0.0",
         "0.0",
         "0.08",
         "0.0",
         "0.23",
         "0.0",
         "0.15",
         "0.0",
         "0.0",
         "0.08",
         "0.15",
         "0.0",
         "0.0",
         "0.08",
         "0.15",
         "0.0",
         "0.08",
         "0.0",
         "0.0",
         "0.0",
         "24.0",
         "0.323",
         "0.6308410406257299",
         "2.0",
         "1.256"
        ],
        [
         "3",
         "IMERIMDLPTLLRHAFREVFSV",
         "rnf170",
         "1.758",
         "1.734862068965517",
         "3",
         "Very High",
         "0.0",
         "0.1",
         "0.0",
         "0.0",
         "0.0",
         "0.2",
         "0.1",
         "0.2",
         "0.0",
         "0.2",
         "0.0",
         "0.2",
         "0.0",
         "0.0",
         "0.1",
         "0.1",
         "0.0",
         "0.0",
         "0.0",
         "0.0",
         "0.1",
         "0.0",
         "0.1",
         "0.0",
         "0.2",
         "0.1",
         "0.0",
         "0.0",
         "0.0",
         "0.0",
         "0.0",
         "0.0",
         "0.1",
         "0.0",
         "0.2",
         "0.0",
         "0.1",
         "0.0",
         "0.0",
         "0.1",
         "22.0",
         "0.613",
         "0.5161269601213732",
         "0.0",
         "0.487"
        ],
        [
         "4",
         "QADILGALKHLRKELQSLRNRK",
         "tmem260",
         "0.444",
         "0.457",
         "4",
         "No Response",
         "0.09",
         "0.09",
         "0.09",
         "0.0",
         "0.0",
         "0.0",
         "0.09",
         "0.36",
         "0.0",
         "0.09",
         "0.0",
         "0.0",
         "0.0",
         "0.0",
         "0.0",
         "0.0",
         "0.0",
         "0.0",
         "0.0",
         "0.0",
         "0.09",
         "0.0",
         "0.0",
         "0.0",
         "0.09",
         "0.18",
         "0.18",
         "0.09",
         "0.09",
         "0.0",
         "0.09",
         "0.09",
         "0.09",
         "0.0",
         "0.0",
         "0.09",
         "0.09",
         "0.0",
         "0.0",
         "0.0",
         "22.0",
         "0.116",
         "0.3638868149305032",
         "4.0",
         "1.664"
        ]
       ],
       "shape": {
        "columns": 51,
        "rows": 5
       }
      },
      "text/html": [
       "<div>\n",
       "<style scoped>\n",
       "    .dataframe tbody tr th:only-of-type {\n",
       "        vertical-align: middle;\n",
       "    }\n",
       "\n",
       "    .dataframe tbody tr th {\n",
       "        vertical-align: top;\n",
       "    }\n",
       "\n",
       "    .dataframe thead th {\n",
       "        text-align: right;\n",
       "    }\n",
       "</style>\n",
       "<table border=\"1\" class=\"dataframe\">\n",
       "  <thead>\n",
       "    <tr style=\"text-align: right;\">\n",
       "      <th></th>\n",
       "      <th>AA_seq</th>\n",
       "      <th>AH</th>\n",
       "      <th>Median</th>\n",
       "      <th>Mean</th>\n",
       "      <th>Organelle</th>\n",
       "      <th>Median_Response</th>\n",
       "      <th>phil_A</th>\n",
       "      <th>phob_A</th>\n",
       "      <th>phil_G</th>\n",
       "      <th>phob_G</th>\n",
       "      <th>...</th>\n",
       "      <th>phob_E</th>\n",
       "      <th>phil_H</th>\n",
       "      <th>phob_H</th>\n",
       "      <th>phil_P</th>\n",
       "      <th>phob_P</th>\n",
       "      <th>Length</th>\n",
       "      <th>Hydrophobicity</th>\n",
       "      <th>H_moment</th>\n",
       "      <th>Netcharge</th>\n",
       "      <th>Dfactor</th>\n",
       "    </tr>\n",
       "  </thead>\n",
       "  <tbody>\n",
       "    <tr>\n",
       "      <th>0</th>\n",
       "      <td>EHPIQWLYITCRKVCKG</td>\n",
       "      <td>nemp1</td>\n",
       "      <td>0.4880</td>\n",
       "      <td>0.495500</td>\n",
       "      <td>4</td>\n",
       "      <td>No Response</td>\n",
       "      <td>0.00</td>\n",
       "      <td>0.00</td>\n",
       "      <td>0.00</td>\n",
       "      <td>0.11</td>\n",
       "      <td>...</td>\n",
       "      <td>0.00</td>\n",
       "      <td>0.11</td>\n",
       "      <td>0.0</td>\n",
       "      <td>0.0</td>\n",
       "      <td>0.11</td>\n",
       "      <td>17.0</td>\n",
       "      <td>0.592</td>\n",
       "      <td>0.372806</td>\n",
       "      <td>2.0</td>\n",
       "      <td>1.012</td>\n",
       "    </tr>\n",
       "    <tr>\n",
       "      <th>1</th>\n",
       "      <td>VSEFMTRLFS</td>\n",
       "      <td>emc7</td>\n",
       "      <td>0.8205</td>\n",
       "      <td>0.814200</td>\n",
       "      <td>1</td>\n",
       "      <td>High</td>\n",
       "      <td>0.00</td>\n",
       "      <td>0.00</td>\n",
       "      <td>0.00</td>\n",
       "      <td>0.00</td>\n",
       "      <td>...</td>\n",
       "      <td>0.00</td>\n",
       "      <td>0.00</td>\n",
       "      <td>0.0</td>\n",
       "      <td>0.0</td>\n",
       "      <td>0.00</td>\n",
       "      <td>10.0</td>\n",
       "      <td>0.626</td>\n",
       "      <td>0.614353</td>\n",
       "      <td>0.0</td>\n",
       "      <td>0.580</td>\n",
       "    </tr>\n",
       "    <tr>\n",
       "      <th>2</th>\n",
       "      <td>RGLWEKCQEYLRKINRDIAQLLTH</td>\n",
       "      <td>scai</td>\n",
       "      <td>1.0900</td>\n",
       "      <td>1.098238</td>\n",
       "      <td>3</td>\n",
       "      <td>Very High</td>\n",
       "      <td>0.08</td>\n",
       "      <td>0.00</td>\n",
       "      <td>0.08</td>\n",
       "      <td>0.00</td>\n",
       "      <td>...</td>\n",
       "      <td>0.00</td>\n",
       "      <td>0.08</td>\n",
       "      <td>0.0</td>\n",
       "      <td>0.0</td>\n",
       "      <td>0.00</td>\n",
       "      <td>24.0</td>\n",
       "      <td>0.323</td>\n",
       "      <td>0.630841</td>\n",
       "      <td>2.0</td>\n",
       "      <td>1.256</td>\n",
       "    </tr>\n",
       "    <tr>\n",
       "      <th>3</th>\n",
       "      <td>IMERIMDLPTLLRHAFREVFSV</td>\n",
       "      <td>rnf170</td>\n",
       "      <td>1.7580</td>\n",
       "      <td>1.734862</td>\n",
       "      <td>3</td>\n",
       "      <td>Very High</td>\n",
       "      <td>0.00</td>\n",
       "      <td>0.10</td>\n",
       "      <td>0.00</td>\n",
       "      <td>0.00</td>\n",
       "      <td>...</td>\n",
       "      <td>0.00</td>\n",
       "      <td>0.10</td>\n",
       "      <td>0.0</td>\n",
       "      <td>0.0</td>\n",
       "      <td>0.10</td>\n",
       "      <td>22.0</td>\n",
       "      <td>0.613</td>\n",
       "      <td>0.516127</td>\n",
       "      <td>0.0</td>\n",
       "      <td>0.487</td>\n",
       "    </tr>\n",
       "    <tr>\n",
       "      <th>4</th>\n",
       "      <td>QADILGALKHLRKELQSLRNRK</td>\n",
       "      <td>tmem260</td>\n",
       "      <td>0.4440</td>\n",
       "      <td>0.457000</td>\n",
       "      <td>4</td>\n",
       "      <td>No Response</td>\n",
       "      <td>0.09</td>\n",
       "      <td>0.09</td>\n",
       "      <td>0.09</td>\n",
       "      <td>0.00</td>\n",
       "      <td>...</td>\n",
       "      <td>0.09</td>\n",
       "      <td>0.09</td>\n",
       "      <td>0.0</td>\n",
       "      <td>0.0</td>\n",
       "      <td>0.00</td>\n",
       "      <td>22.0</td>\n",
       "      <td>0.116</td>\n",
       "      <td>0.363887</td>\n",
       "      <td>4.0</td>\n",
       "      <td>1.664</td>\n",
       "    </tr>\n",
       "  </tbody>\n",
       "</table>\n",
       "<p>5 rows × 51 columns</p>\n",
       "</div>"
      ],
      "text/plain": [
       "                     AA_seq       AH  Median      Mean  Organelle  \\\n",
       "0         EHPIQWLYITCRKVCKG    nemp1  0.4880  0.495500          4   \n",
       "1                VSEFMTRLFS     emc7  0.8205  0.814200          1   \n",
       "2  RGLWEKCQEYLRKINRDIAQLLTH     scai  1.0900  1.098238          3   \n",
       "3    IMERIMDLPTLLRHAFREVFSV   rnf170  1.7580  1.734862          3   \n",
       "4    QADILGALKHLRKELQSLRNRK  tmem260  0.4440  0.457000          4   \n",
       "\n",
       "  Median_Response  phil_A  phob_A  phil_G  phob_G  ...  phob_E  phil_H  \\\n",
       "0     No Response    0.00    0.00    0.00    0.11  ...    0.00    0.11   \n",
       "1            High    0.00    0.00    0.00    0.00  ...    0.00    0.00   \n",
       "2       Very High    0.08    0.00    0.08    0.00  ...    0.00    0.08   \n",
       "3       Very High    0.00    0.10    0.00    0.00  ...    0.00    0.10   \n",
       "4     No Response    0.09    0.09    0.09    0.00  ...    0.09    0.09   \n",
       "\n",
       "   phob_H  phil_P  phob_P  Length  Hydrophobicity  H_moment  Netcharge  \\\n",
       "0     0.0     0.0    0.11    17.0           0.592  0.372806        2.0   \n",
       "1     0.0     0.0    0.00    10.0           0.626  0.614353        0.0   \n",
       "2     0.0     0.0    0.00    24.0           0.323  0.630841        2.0   \n",
       "3     0.0     0.0    0.10    22.0           0.613  0.516127        0.0   \n",
       "4     0.0     0.0    0.00    22.0           0.116  0.363887        4.0   \n",
       "\n",
       "   Dfactor  \n",
       "0    1.012  \n",
       "1    0.580  \n",
       "2    1.256  \n",
       "3    0.487  \n",
       "4    1.664  \n",
       "\n",
       "[5 rows x 51 columns]"
      ]
     },
     "execution_count": 15,
     "metadata": {},
     "output_type": "execute_result"
    }
   ],
   "source": [
    "df.head()"
   ]
  },
  {
   "cell_type": "markdown",
   "metadata": {},
   "source": [
    "### NEES-strength-category-based machine learning"
   ]
  },
  {
   "cell_type": "code",
   "execution_count": 16,
   "metadata": {},
   "outputs": [
    {
     "name": "stdout",
     "output_type": "stream",
     "text": [
      "Index(['phil_A', 'phob_A', 'phil_G', 'phob_G', 'phil_V', 'phob_V', 'phil_L',\n",
      "       'phob_L', 'phil_I', 'phob_I', 'phil_F', 'phob_F', 'phil_W', 'phob_W',\n",
      "       'phil_M', 'phob_M', 'phil_Y', 'phob_Y', 'phil_C', 'phob_C', 'phil_S',\n",
      "       'phob_S', 'phil_T', 'phob_T', 'phil_R', 'phob_R', 'phil_K', 'phob_K',\n",
      "       'phil_N', 'phob_N', 'phil_Q', 'phob_Q', 'phil_D', 'phob_D', 'phil_E',\n",
      "       'phob_E', 'phil_H', 'phob_H', 'phil_P', 'phob_P'],\n",
      "      dtype='object')\n"
     ]
    }
   ],
   "source": [
    "# define features\n",
    "data = df.copy()\n",
    "features = data.columns[6:-5]\n",
    "print(features)\n",
    "x = data.loc[:, features].values\n",
    "y = data.loc[:, 'Median_Response'].values\n",
    "x = StandardScaler().fit_transform(x)"
   ]
  },
  {
   "cell_type": "code",
   "execution_count": 17,
   "metadata": {},
   "outputs": [
    {
     "data": {
      "image/png": "[encoded data removed]",
      "text/plain": [
       "<Figure size 800x600 with 1 Axes>"
      ]
     },
     "metadata": {},
     "output_type": "display_data"
    }
   ],
   "source": [
    "# Perform LDA\n",
    "lda = LinearDiscriminantAnalysis(n_components=2)\n",
    "lda_components = lda.fit_transform(x, y)\n",
    "lda_df = pd.DataFrame(data=lda_components, columns=['Linear Discriminant 1', 'Linear Discriminant 2'])\n",
    "lda_df['Group'] = y\n",
    "\n",
    "# Plot LDA results\n",
    "plt.figure(figsize=(8, 6))\n",
    "for group in lda_df['Group'].unique():\n",
    "    indices = lda_df['Group'] == group\n",
    "    plt.scatter(lda_df.loc[indices, 'Linear Discriminant 1'],\n",
    "                lda_df.loc[indices, 'Linear Discriminant 2'],\n",
    "                label=f'Group {group}')\n",
    "plt.xlabel('Linear Discriminant 1')\n",
    "plt.ylabel('Linear Discriminant 2')\n",
    "plt.title('LDA: Linear Discriminants')\n",
    "plt.legend()\n",
    "plt.show()"
   ]
  },
  {
   "cell_type": "markdown",
   "metadata": {},
   "source": [
    "### Organelle-type-based machine learning"
   ]
  },
  {
   "cell_type": "code",
   "execution_count": 4,
   "metadata": {},
   "outputs": [],
   "source": [
    "# Remove rows where 'Organelle' is 5\n",
    "data_filtered = df[df['Organelle'] != 5]\n",
    "\n",
    "# Combine categories 1 and 2 into a single category \"1\"\n",
    "data_combined = data_filtered.copy()\n",
    "data_combined['Organelle'] = data_combined['Organelle'].replace({2: 1})"
   ]
  },
  {
   "cell_type": "code",
   "execution_count": 5,
   "metadata": {},
   "outputs": [
    {
     "name": "stdout",
     "output_type": "stream",
     "text": [
      "Index(['phil_A', 'phob_A', 'phil_G', 'phob_G', 'phil_V', 'phob_V', 'phil_L',\n",
      "       'phob_L', 'phil_I', 'phob_I', 'phil_F', 'phob_F', 'phil_W', 'phob_W',\n",
      "       'phil_M', 'phob_M', 'phil_Y', 'phob_Y', 'phil_C', 'phob_C', 'phil_S',\n",
      "       'phob_S', 'phil_T', 'phob_T', 'phil_R', 'phob_R', 'phil_K', 'phob_K',\n",
      "       'phil_N', 'phob_N', 'phil_Q', 'phob_Q', 'phil_D', 'phob_D', 'phil_E',\n",
      "       'phob_E', 'phil_H', 'phob_H', 'phil_P', 'phob_P'],\n",
      "      dtype='object')\n"
     ]
    }
   ],
   "source": [
    "# define features\n",
    "data = data_combined.copy()\n",
    "features = data.columns[5:-5]\n",
    "print(features)\n",
    "x = data.loc[:, features].values\n",
    "y = data.loc[:, 'Organelle'].values\n",
    "x = StandardScaler().fit_transform(x)"
   ]
  },
  {
   "cell_type": "code",
   "execution_count": 6,
   "metadata": {},
   "outputs": [
    {
     "data": {
      "image/png": "[encoded data removed]",
      "text/plain": [
       "<Figure size 800x600 with 1 Axes>"
      ]
     },
     "metadata": {},
     "output_type": "display_data"
    }
   ],
   "source": [
    "# Perform LDA\n",
    "lda = LinearDiscriminantAnalysis(n_components=2)\n",
    "lda_components = lda.fit_transform(x, y)\n",
    "lda_df = pd.DataFrame(data=lda_components, columns=['Linear Discriminant 1', 'Linear Discriminant 2'])\n",
    "lda_df['Group'] = y\n",
    "\n",
    "# Plot LDA results\n",
    "plt.figure(figsize=(8, 6))\n",
    "for group in lda_df['Group'].unique():\n",
    "    indices = lda_df['Group'] == group\n",
    "    plt.scatter(lda_df.loc[indices, 'Linear Discriminant 1'],\n",
    "                lda_df.loc[indices, 'Linear Discriminant 2'],\n",
    "                label=f'Group {group}')\n",
    "plt.xlabel('Linear Discriminant 1')\n",
    "plt.ylabel('Linear Discriminant 2')\n",
    "plt.title('LDA: Linear Discriminants')\n",
    "plt.legend()\n",
    "plt.show()"
   ]
  },
  {
   "cell_type": "code",
   "execution_count": null,
   "metadata": {},
   "outputs": [],
   "source": []
  }
 ],
 "metadata": {
  "kernelspec": {
   "display_name": "py312",
   "language": "python",
   "name": "python3"
  },
  "language_info": {
   "codemirror_mode": {
    "name": "ipython",
    "version": 3
   },
   "file_extension": ".py",
   "mimetype": "text/x-python",
   "name": "python",
   "nbconvert_exporter": "python",
   "pygments_lexer": "ipython3",
   "version": "3.12.9"
  }
 },
 "nbformat": 4,
 "nbformat_minor": 2
}
