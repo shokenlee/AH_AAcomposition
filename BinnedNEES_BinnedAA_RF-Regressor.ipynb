{
 "cells": [
  {
   "cell_type": "code",
   "execution_count": 2,
   "metadata": {},
   "outputs": [],
   "source": [
    "import pandas as pd\n",
    "from sklearn.ensemble import RandomForestRegressor\n",
    "# from sklearn.feature_selection import SelectFromModel"
   ]
  },
  {
   "cell_type": "code",
   "execution_count": 3,
   "metadata": {},
   "outputs": [],
   "source": [
    "df = pd.read_csv('./Output/NEES_summary_with_heliquest_Median_Transformed.csv')"
   ]
  },
  {
   "cell_type": "code",
   "execution_count": 4,
   "metadata": {},
   "outputs": [
    {
     "data": {
      "text/plain": [
       "Index(['AA_seq', 'AH', 'Median', 'Mean', 'NEES_binned', 'phil_A', 'phob_A',\n",
       "       'phil_G', 'phob_G', 'phil_V', 'phob_V', 'phil_L', 'phob_L', 'phil_I',\n",
       "       'phob_I', 'phil_F', 'phob_F', 'phil_W', 'phob_W', 'phil_M', 'phob_M',\n",
       "       'phil_Y', 'phob_Y', 'phil_C', 'phob_C', 'phil_S', 'phob_S', 'phil_T',\n",
       "       'phob_T', 'phil_R', 'phob_R', 'phil_K', 'phob_K', 'phil_N', 'phob_N',\n",
       "       'phil_Q', 'phob_Q', 'phil_D', 'phob_D', 'phil_E', 'phob_E', 'phil_H',\n",
       "       'phob_H', 'phil_P', 'phob_P', 'Length', 'Hydrophobicity', 'H_moment',\n",
       "       'Netcharge', 'Dfactor', 'phil_S_T', 'phil_R_K', 'phil_L_I', 'phil_F_W',\n",
       "       'phil_M_C', 'phil_D_E', 'phil_N_Q', 'phob_S_T', 'phob_R_K', 'phob_L_I',\n",
       "       'phob_F_W', 'phob_M_C', 'phob_D_E', 'phob_N_Q', 'Median_Log',\n",
       "       'Median_boxcox', 'Median_boxcox_No1shift'],\n",
       "      dtype='object')"
      ]
     },
     "execution_count": 4,
     "metadata": {},
     "output_type": "execute_result"
    }
   ],
   "source": [
    "df.columns"
   ]
  },
  {
   "cell_type": "code",
   "execution_count": null,
   "metadata": {},
   "outputs": [],
   "source": [
    "# Define predictors and target\n",
    "x_columns = ['phil_S_T', 'phil_R_K', 'phil_L_I', 'phil_F_W', 'phil_M_C', 'phil_D_E', 'phil_N_Q', \n",
    "                       'phil_A', 'phil_G', 'phil_V', 'phil_Y', 'phil_H', 'phil_P'] + ['phob_S_T', 'phob_R_K', 'phob_L_I', 'phob_F_W', 'phob_M_C', 'phob_D_E', 'phob_N_Q', \n",
    "                       'phob_A', 'phob_G', 'phob_V', 'phob_Y', 'phob_H', 'phob_P']\n",
    "\n",
    "y_column = 'Median_boxcox'\n",
    "\n",
    "X_train = df[x_columns]\n",
    "y = df[y_column]"
   ]
  },
  {
   "cell_type": "code",
   "execution_count": 8,
   "metadata": {},
   "outputs": [
    {
     "data": {
      "text/plain": [
       "phil_S_T    0.152270\n",
       "phob_F_W    0.094255\n",
       "phil_R_K    0.074969\n",
       "phob_L_I    0.069569\n",
       "phil_N_Q    0.060904\n",
       "phil_D_E    0.058722\n",
       "phob_M_C    0.056581\n",
       "phil_G      0.049410\n",
       "phil_F_W    0.044180\n",
       "phil_A      0.042935\n",
       "phil_L_I    0.039271\n",
       "phil_H      0.037708\n",
       "phob_V      0.034185\n",
       "phob_Y      0.032258\n",
       "phob_S_T    0.028549\n",
       "phob_G      0.017520\n",
       "phil_Y      0.016024\n",
       "phil_M_C    0.015815\n",
       "phob_H      0.014430\n",
       "phob_D_E    0.012443\n",
       "phob_P      0.011509\n",
       "phob_N_Q    0.010417\n",
       "phob_A      0.008889\n",
       "phil_P      0.007684\n",
       "phob_R_K    0.005564\n",
       "phil_V      0.003938\n",
       "dtype: float64"
      ]
     },
     "execution_count": 8,
     "metadata": {},
     "output_type": "execute_result"
    }
   ],
   "source": [
    "# Train a Random Forest Regressor with the complete set of predictors and Box-Cox transformed target variable\n",
    "rf_regressor_complete = RandomForestRegressor(n_estimators=100, random_state=0)\n",
    "rf_regressor_complete.fit(X_train, y)\n",
    "\n",
    "# Get feature importances from the regressor\n",
    "importances_complete = rf_regressor_complete.feature_importances_\n",
    "feature_importance_complete = pd.Series(importances_complete, index=x_columns).sort_values(ascending=False)\n",
    "\n",
    "# Display the importances\n",
    "feature_importance_complete"
   ]
  },
  {
   "cell_type": "code",
   "execution_count": null,
   "metadata": {},
   "outputs": [],
   "source": []
  }
 ],
 "metadata": {
  "kernelspec": {
   "display_name": "py312",
   "language": "python",
   "name": "python3"
  },
  "language_info": {
   "codemirror_mode": {
    "name": "ipython",
    "version": 3
   },
   "file_extension": ".py",
   "mimetype": "text/x-python",
   "name": "python",
   "nbconvert_exporter": "python",
   "pygments_lexer": "ipython3",
   "version": "3.12.9"
  }
 },
 "nbformat": 4,
 "nbformat_minor": 2
}
