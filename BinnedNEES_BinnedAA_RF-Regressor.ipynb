{
 "cells": [
  {
   "cell_type": "code",
   "execution_count": 1,
   "metadata": {},
   "outputs": [],
   "source": [
    "import pandas as pd\n",
    "from sklearn.ensemble import RandomForestRegressor\n",
    "# from sklearn.feature_selection import SelectFromModel"
   ]
  },
  {
   "cell_type": "code",
   "execution_count": 2,
   "metadata": {},
   "outputs": [],
   "source": [
    "df = pd.read_csv('./Output/NEES_summary_with_heliquest_Median_Transformed.csv')"
   ]
  },
  {
   "cell_type": "code",
   "execution_count": 3,
   "metadata": {},
   "outputs": [
    {
     "data": {
      "text/plain": [
       "Index(['AA_seq', 'AH', 'Median', 'Mean', 'NEES_binned', 'phil_A', 'phob_A',\n",
       "       'phil_G', 'phob_G', 'phil_V', 'phob_V', 'phil_L', 'phob_L', 'phil_I',\n",
       "       'phob_I', 'phil_F', 'phob_F', 'phil_W', 'phob_W', 'phil_M', 'phob_M',\n",
       "       'phil_Y', 'phob_Y', 'phil_C', 'phob_C', 'phil_S', 'phob_S', 'phil_T',\n",
       "       'phob_T', 'phil_R', 'phob_R', 'phil_K', 'phob_K', 'phil_N', 'phob_N',\n",
       "       'phil_Q', 'phob_Q', 'phil_D', 'phob_D', 'phil_E', 'phob_E', 'phil_H',\n",
       "       'phob_H', 'phil_P', 'phob_P', 'Length', 'Hydrophobicity', 'H_moment',\n",
       "       'Netcharge', 'Dfactor', 'whole_A', 'whole_G', 'whole_V', 'whole_L',\n",
       "       'whole_I', 'whole_F', 'whole_W', 'whole_M', 'whole_Y', 'whole_C',\n",
       "       'whole_S', 'whole_T', 'whole_R', 'whole_K', 'whole_N', 'whole_Q',\n",
       "       'whole_D', 'whole_E', 'whole_H', 'whole_P', 'whole_S_T', 'whole_R_K',\n",
       "       'whole_L_I', 'whole_F_W', 'whole_M_C', 'whole_D_E', 'whole_N_Q',\n",
       "       'phil_S_T', 'phil_R_K', 'phil_L_I', 'phil_F_W', 'phil_M_C', 'phil_D_E',\n",
       "       'phil_N_Q', 'phob_S_T', 'phob_R_K', 'phob_L_I', 'phob_F_W', 'phob_M_C',\n",
       "       'phob_D_E', 'phob_N_Q', 'Median_Log', 'Median_boxcox'],\n",
       "      dtype='object')"
      ]
     },
     "execution_count": 3,
     "metadata": {},
     "output_type": "execute_result"
    }
   ],
   "source": [
    "df.columns"
   ]
  },
  {
   "cell_type": "code",
   "execution_count": 8,
   "metadata": {},
   "outputs": [],
   "source": [
    "# Whole AA compositions\n",
    "# Define predictors and target\n",
    "x_columns = ['whole_S_T', 'whole_R_K', 'whole_L_I', 'whole_F_W', 'whole_M_C', 'whole_D_E', 'whole_N_Q', \n",
    "                       'whole_A', 'whole_G', 'whole_V', 'whole_Y', 'whole_H', 'whole_P']\n",
    "\n",
    "y_column = 'Median_boxcox'\n",
    "\n",
    "X_train = df[x_columns]\n",
    "y = df[y_column]"
   ]
  },
  {
   "cell_type": "code",
   "execution_count": 9,
   "metadata": {},
   "outputs": [
    {
     "data": {
      "text/plain": [
       "whole_M_C    0.158557\n",
       "whole_S_T    0.128616\n",
       "whole_R_K    0.123751\n",
       "whole_H      0.110747\n",
       "whole_F_W    0.080525\n",
       "whole_A      0.071069\n",
       "whole_D_E    0.070232\n",
       "whole_L_I    0.063009\n",
       "whole_N_Q    0.062974\n",
       "whole_G      0.043543\n",
       "whole_V      0.040594\n",
       "whole_P      0.023363\n",
       "whole_Y      0.023020\n",
       "dtype: float64"
      ]
     },
     "execution_count": 9,
     "metadata": {},
     "output_type": "execute_result"
    }
   ],
   "source": [
    "# Train a Random Forest Regressor with the complete set of predictors and Box-Cox transformed target variable\n",
    "rf_regressor_complete = RandomForestRegressor(n_estimators=100, random_state=0)\n",
    "rf_regressor_complete.fit(X_train, y)\n",
    "\n",
    "# Get feature importances from the regressor\n",
    "importances_complete = rf_regressor_complete.feature_importances_\n",
    "feature_importance_complete = pd.Series(importances_complete, index=x_columns).sort_values(ascending=False)\n",
    "\n",
    "# Display the importances\n",
    "feature_importance_complete"
   ]
  },
  {
   "cell_type": "code",
   "execution_count": 6,
   "metadata": {},
   "outputs": [],
   "source": [
    "# AA compositions by faces\n",
    "# Define predictors and target\n",
    "x_columns = ['phil_S_T', 'phil_R_K', 'phil_L_I', 'phil_F_W', 'phil_M_C', 'phil_D_E', 'phil_N_Q', \n",
    "                       'phil_A', 'phil_G', 'phil_V', 'phil_Y', 'phil_H', 'phil_P'] + ['phob_S_T', 'phob_R_K', 'phob_L_I', 'phob_F_W', 'phob_M_C', 'phob_D_E', 'phob_N_Q', \n",
    "                       'phob_A', 'phob_G', 'phob_V', 'phob_Y', 'phob_H', 'phob_P']\n",
    "\n",
    "y_column = 'Median_boxcox'\n",
    "\n",
    "X_train = df[x_columns]\n",
    "y = df[y_column]"
   ]
  },
  {
   "cell_type": "code",
   "execution_count": 7,
   "metadata": {},
   "outputs": [
    {
     "data": {
      "text/plain": [
       "phil_S_T    0.152270\n",
       "phob_F_W    0.094255\n",
       "phil_R_K    0.074969\n",
       "phob_L_I    0.069569\n",
       "phil_N_Q    0.060904\n",
       "phil_D_E    0.058722\n",
       "phob_M_C    0.056581\n",
       "phil_G      0.049410\n",
       "phil_F_W    0.044180\n",
       "phil_A      0.042935\n",
       "phil_L_I    0.039271\n",
       "phil_H      0.037708\n",
       "phob_V      0.034185\n",
       "phob_Y      0.032258\n",
       "phob_S_T    0.028549\n",
       "phob_G      0.017520\n",
       "phil_Y      0.016024\n",
       "phil_M_C    0.015815\n",
       "phob_H      0.014430\n",
       "phob_D_E    0.012443\n",
       "phob_P      0.011509\n",
       "phob_N_Q    0.010417\n",
       "phob_A      0.008889\n",
       "phil_P      0.007684\n",
       "phob_R_K    0.005564\n",
       "phil_V      0.003938\n",
       "dtype: float64"
      ]
     },
     "execution_count": 7,
     "metadata": {},
     "output_type": "execute_result"
    }
   ],
   "source": [
    "# Train a Random Forest Regressor with the complete set of predictors and Box-Cox transformed target variable\n",
    "rf_regressor_complete = RandomForestRegressor(n_estimators=100, random_state=0)\n",
    "rf_regressor_complete.fit(X_train, y)\n",
    "\n",
    "# Get feature importances from the regressor\n",
    "importances_complete = rf_regressor_complete.feature_importances_\n",
    "feature_importance_complete = pd.Series(importances_complete, index=x_columns).sort_values(ascending=False)\n",
    "\n",
    "# Display the importances\n",
    "feature_importance_complete"
   ]
  },
  {
   "cell_type": "code",
   "execution_count": 10,
   "metadata": {},
   "outputs": [],
   "source": [
    "feature_importance_complete.to_csv('./Output/RFReg_feature_importance_wholeAAs.csv', index=True)"
   ]
  },
  {
   "cell_type": "code",
   "execution_count": 11,
   "metadata": {},
   "outputs": [
    {
     "data": {
      "text/plain": [
       "whole_M_C         0.125007\n",
       "Hydrophobicity    0.119609\n",
       "whole_S_T         0.099575\n",
       "whole_H           0.093730\n",
       "H_moment          0.074005\n",
       "whole_R_K         0.073249\n",
       "Length            0.073189\n",
       "Dfactor           0.048700\n",
       "whole_A           0.046670\n",
       "whole_N_Q         0.041726\n",
       "whole_F_W         0.041366\n",
       "whole_L_I         0.034300\n",
       "whole_D_E         0.029712\n",
       "whole_V           0.027675\n",
       "whole_G           0.018838\n",
       "whole_Y           0.018012\n",
       "whole_P           0.017393\n",
       "Netcharge         0.017243\n",
       "dtype: float64"
      ]
     },
     "execution_count": 11,
     "metadata": {},
     "output_type": "execute_result"
    }
   ],
   "source": [
    "from sklearn.preprocessing import StandardScaler\n",
    "\n",
    "# Scaling\n",
    "AH_properties = ['Length', 'Hydrophobicity', 'H_moment', 'Netcharge', 'Dfactor']\n",
    "scaler = StandardScaler()\n",
    "scaled_data = pd.DataFrame(scaler.fit_transform(df[AH_properties]), columns=AH_properties)\n",
    "\n",
    "# Combine the scaled additional predictors with the other predictors\n",
    "x_columns_combined = x_columns + AH_properties\n",
    "X_combined_scaled = df[x_columns_combined].copy()\n",
    "for col in AH_properties:\n",
    "    X_combined_scaled[col] = scaled_data[col]\n",
    "\n",
    "# Define data\n",
    "y_column = 'Median_boxcox'\n",
    "X_train = X_combined_scaled\n",
    "y = df[y_column]\n",
    "\n",
    "# Train a Random Forest Regressor with the combined set of predictors\n",
    "rf_regressor_combined_scaled = RandomForestRegressor(n_estimators=100, random_state=0)\n",
    "rf_regressor_combined_scaled.fit(X_train, y)\n",
    "\n",
    "# Get feature importances from the regressor\n",
    "importances_combined_scaled = rf_regressor_combined_scaled.feature_importances_\n",
    "feature_importance_combined_scaled = pd.Series(importances_combined_scaled, index=X_combined_scaled.columns).sort_values(ascending=False)\n",
    "\n",
    "# Display and save the importances\n",
    "feature_importance_combined_scaled.to_csv(\"./Output/RFReg_feature_importance_allproperties.csv\", index=True)\n",
    "feature_importance_combined_scaled"
   ]
  },
  {
   "cell_type": "code",
   "execution_count": null,
   "metadata": {},
   "outputs": [],
   "source": []
  }
 ],
 "metadata": {
  "kernelspec": {
   "display_name": "py312",
   "language": "python",
   "name": "python3"
  },
  "language_info": {
   "codemirror_mode": {
    "name": "ipython",
    "version": 3
   },
   "file_extension": ".py",
   "mimetype": "text/x-python",
   "name": "python",
   "nbconvert_exporter": "python",
   "pygments_lexer": "ipython3",
   "version": "3.12.9"
  }
 },
 "nbformat": 4,
 "nbformat_minor": 2
}
