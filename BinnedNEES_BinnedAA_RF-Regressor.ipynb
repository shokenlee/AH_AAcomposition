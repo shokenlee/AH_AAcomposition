{
 "cells": [
  {
   "cell_type": "code",
   "execution_count": 1,
   "metadata": {},
   "outputs": [],
   "source": [
    "import pandas as pd\n",
    "from sklearn.ensemble import RandomForestRegressor\n",
    "# from sklearn.feature_selection import SelectFromModel"
   ]
  },
  {
   "cell_type": "code",
   "execution_count": 2,
   "metadata": {},
   "outputs": [],
   "source": [
    "df = pd.read_csv('./Output/NEES_summary_with_heliquest_Median_Transformed.csv')"
   ]
  },
  {
   "cell_type": "code",
   "execution_count": 3,
   "metadata": {},
   "outputs": [
    {
     "data": {
      "text/plain": [
       "Index(['AA_seq', 'AH', 'Median', 'Mean', 'HydrophobicFaceWidth', 'NEES_binned',\n",
       "       'phil_A', 'phob_A', 'phil_G', 'phob_G', 'phil_V', 'phob_V', 'phil_L',\n",
       "       'phob_L', 'phil_I', 'phob_I', 'phil_F', 'phob_F', 'phil_W', 'phob_W',\n",
       "       'phil_M', 'phob_M', 'phil_Y', 'phob_Y', 'phil_C', 'phob_C', 'phil_S',\n",
       "       'phob_S', 'phil_T', 'phob_T', 'phil_R', 'phob_R', 'phil_K', 'phob_K',\n",
       "       'phil_N', 'phob_N', 'phil_Q', 'phob_Q', 'phil_D', 'phob_D', 'phil_E',\n",
       "       'phob_E', 'phil_H', 'phob_H', 'phil_P', 'phob_P', 'Length',\n",
       "       'Hydrophobicity', 'H_moment', 'Netcharge', 'Dfactor', 'phil_S_T',\n",
       "       'phil_R_K', 'phil_L_I', 'phil_F_W', 'phil_M_C', 'phil_D_E', 'phil_N_Q',\n",
       "       'phob_S_T', 'phob_R_K', 'phob_L_I', 'phob_F_W', 'phob_M_C', 'phob_D_E',\n",
       "       'phob_N_Q', 'Median_boxcox', 'Median_Log'],\n",
       "      dtype='object')"
      ]
     },
     "execution_count": 3,
     "metadata": {},
     "output_type": "execute_result"
    }
   ],
   "source": [
    "df.columns"
   ]
  },
  {
   "cell_type": "code",
   "execution_count": 4,
   "metadata": {},
   "outputs": [],
   "source": [
    "# Define predictors and target\n",
    "x_columns = ['phil_S_T', 'phil_R_K', 'phil_L_I', 'phil_F_W', 'phil_M_C', 'phil_D_E', 'phil_N_Q', \n",
    "                       'phil_A', 'phil_G', 'phil_V', 'phil_Y', 'phil_H', 'phil_P'] + ['phob_S_T', 'phob_R_K', 'phob_L_I', 'phob_F_W', 'phob_M_C', 'phob_D_E', 'phob_N_Q', \n",
    "                       'phob_A', 'phob_G', 'phob_V', 'phob_Y', 'phob_H', 'phob_P']\n",
    "\n",
    "y_column = 'Median_boxcox'\n",
    "\n",
    "X_train = df[x_columns]\n",
    "y = df[y_column]"
   ]
  },
  {
   "cell_type": "code",
   "execution_count": 5,
   "metadata": {},
   "outputs": [
    {
     "data": {
      "text/plain": [
       "phil_S_T    0.152270\n",
       "phob_F_W    0.094255\n",
       "phil_R_K    0.074969\n",
       "phob_L_I    0.069569\n",
       "phil_N_Q    0.060904\n",
       "phil_D_E    0.058722\n",
       "phob_M_C    0.056581\n",
       "phil_G      0.049410\n",
       "phil_F_W    0.044180\n",
       "phil_A      0.042935\n",
       "phil_L_I    0.039271\n",
       "phil_H      0.037708\n",
       "phob_V      0.034185\n",
       "phob_Y      0.032258\n",
       "phob_S_T    0.028549\n",
       "phob_G      0.017520\n",
       "phil_Y      0.016024\n",
       "phil_M_C    0.015815\n",
       "phob_H      0.014430\n",
       "phob_D_E    0.012443\n",
       "phob_P      0.011509\n",
       "phob_N_Q    0.010417\n",
       "phob_A      0.008889\n",
       "phil_P      0.007684\n",
       "phob_R_K    0.005564\n",
       "phil_V      0.003938\n",
       "dtype: float64"
      ]
     },
     "execution_count": 5,
     "metadata": {},
     "output_type": "execute_result"
    }
   ],
   "source": [
    "# Train a Random Forest Regressor with the complete set of predictors and Box-Cox transformed target variable\n",
    "rf_regressor_complete = RandomForestRegressor(n_estimators=100, random_state=0)\n",
    "rf_regressor_complete.fit(X_train, y)\n",
    "\n",
    "# Get feature importances from the regressor\n",
    "importances_complete = rf_regressor_complete.feature_importances_\n",
    "feature_importance_complete = pd.Series(importances_complete, index=x_columns).sort_values(ascending=False)\n",
    "\n",
    "# Display the importances\n",
    "feature_importance_complete"
   ]
  },
  {
   "cell_type": "code",
   "execution_count": 7,
   "metadata": {},
   "outputs": [],
   "source": [
    "feature_importance_complete.to_csv('./Output/RFReg_feature_importance.csv', index=True)"
   ]
  },
  {
   "cell_type": "code",
   "execution_count": 6,
   "metadata": {},
   "outputs": [
    {
     "data": {
      "text/plain": [
       "HydrophobicFaceWidth    0.215621\n",
       "phil_S_T                0.134194\n",
       "phob_F_W                0.091815\n",
       "Length                  0.059870\n",
       "phil_R_K                0.050911\n",
       "Hydrophobicity          0.048982\n",
       "Dfactor                 0.040164\n",
       "phob_M_C                0.039327\n",
       "H_moment                0.037300\n",
       "phob_L_I                0.036951\n",
       "phob_V                  0.030303\n",
       "phil_N_Q                0.028253\n",
       "phob_Y                  0.023073\n",
       "phil_D_E                0.023024\n",
       "phil_G                  0.015843\n",
       "phil_H                  0.015719\n",
       "phil_A                  0.012265\n",
       "phob_S_T                0.011776\n",
       "phob_H                  0.011304\n",
       "Netcharge               0.009858\n",
       "phil_Y                  0.008295\n",
       "phil_F_W                0.008065\n",
       "phob_A                  0.007780\n",
       "phil_L_I                0.007330\n",
       "phil_V                  0.006574\n",
       "phob_G                  0.006102\n",
       "phob_R_K                0.005849\n",
       "phob_N_Q                0.003643\n",
       "phob_D_E                0.003061\n",
       "phil_P                  0.003026\n",
       "phil_M_C                0.002316\n",
       "phob_P                  0.001407\n",
       "dtype: float64"
      ]
     },
     "execution_count": 6,
     "metadata": {},
     "output_type": "execute_result"
    }
   ],
   "source": [
    "from sklearn.preprocessing import StandardScaler\n",
    "\n",
    "# Scaling\n",
    "AH_properties = ['Length', 'Hydrophobicity', 'H_moment', 'Netcharge', 'Dfactor', 'HydrophobicFaceWidth']\n",
    "scaler = StandardScaler()\n",
    "scaled_data = pd.DataFrame(scaler.fit_transform(df[AH_properties]), columns=AH_properties)\n",
    "\n",
    "# Combine the scaled additional predictors with the other predictors\n",
    "x_columns_combined = x_columns + AH_properties\n",
    "X_combined_scaled = df[x_columns_combined].copy()\n",
    "for col in AH_properties:\n",
    "    X_combined_scaled[col] = scaled_data[col]\n",
    "\n",
    "# Define data\n",
    "y_column = 'Median_boxcox'\n",
    "X_train = X_combined_scaled\n",
    "y = df[y_column]\n",
    "\n",
    "# Train a Random Forest Regressor with the combined set of predictors\n",
    "rf_regressor_combined_scaled = RandomForestRegressor(n_estimators=100, random_state=0)\n",
    "rf_regressor_combined_scaled.fit(X_train, y)\n",
    "\n",
    "# Get feature importances from the regressor\n",
    "importances_combined_scaled = rf_regressor_combined_scaled.feature_importances_\n",
    "feature_importance_combined_scaled = pd.Series(importances_combined_scaled, index=X_combined_scaled.columns).sort_values(ascending=False)\n",
    "\n",
    "# Display and save the importances\n",
    "feature_importance_combined_scaled.to_csv(\"./Output/RFReg_feature_importance_allproperties.csv\", index=True)\n",
    "feature_importance_combined_scaled"
   ]
  },
  {
   "cell_type": "code",
   "execution_count": null,
   "metadata": {},
   "outputs": [],
   "source": []
  }
 ],
 "metadata": {
  "kernelspec": {
   "display_name": "py312",
   "language": "python",
   "name": "python3"
  },
  "language_info": {
   "codemirror_mode": {
    "name": "ipython",
    "version": 3
   },
   "file_extension": ".py",
   "mimetype": "text/x-python",
   "name": "python",
   "nbconvert_exporter": "python",
   "pygments_lexer": "ipython3",
   "version": "3.12.9"
  }
 },
 "nbformat": 4,
 "nbformat_minor": 2
}
