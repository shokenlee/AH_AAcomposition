{
 "cells": [
  {
   "cell_type": "code",
   "execution_count": 3,
   "metadata": {},
   "outputs": [],
   "source": [
    "import pandas as pd\n",
    "import matplotlib.pyplot as plt\n",
    "import seaborn as sns\n",
    "from matplotlib.backends.backend_pdf import PdfPages"
   ]
  },
  {
   "cell_type": "code",
   "execution_count": 4,
   "metadata": {},
   "outputs": [],
   "source": [
    "df = pd.read_csv('./Output/NEES_summary_with_heliquest.csv')"
   ]
  },
  {
   "cell_type": "code",
   "execution_count": 5,
   "metadata": {},
   "outputs": [
    {
     "name": "stdout",
     "output_type": "stream",
     "text": [
      "Index(['AA_seq', 'AH', 'Median', 'Mean', 'Organelle', 'NEES_binned', 'phil_A',\n",
      "       'phob_A', 'phil_G', 'phob_G', 'phil_V', 'phob_V', 'phil_L', 'phob_L',\n",
      "       'phil_I', 'phob_I', 'phil_F', 'phob_F', 'phil_W', 'phob_W', 'phil_M',\n",
      "       'phob_M', 'phil_Y', 'phob_Y', 'phil_C', 'phob_C', 'phil_S', 'phob_S',\n",
      "       'phil_T', 'phob_T', 'phil_R', 'phob_R', 'phil_K', 'phob_K', 'phil_N',\n",
      "       'phob_N', 'phil_Q', 'phob_Q', 'phil_D', 'phob_D', 'phil_E', 'phob_E',\n",
      "       'phil_H', 'phob_H', 'phil_P', 'phob_P', 'Length', 'Hydrophobicity',\n",
      "       'H_moment', 'Netcharge', 'Dfactor'],\n",
      "      dtype='object')\n"
     ]
    }
   ],
   "source": [
    "print(df.columns)"
   ]
  },
  {
   "cell_type": "code",
   "execution_count": 6,
   "metadata": {},
   "outputs": [
    {
     "name": "stdout",
     "output_type": "stream",
     "text": [
      "Index(['Length', 'Hydrophobicity', 'H_moment', 'Netcharge', 'Dfactor'], dtype='object')\n",
      "Index(['phil_A', 'phob_A', 'phil_G', 'phob_G', 'phil_V', 'phob_V', 'phil_L',\n",
      "       'phob_L', 'phil_I', 'phob_I', 'phil_F', 'phob_F', 'phil_W', 'phob_W',\n",
      "       'phil_M', 'phob_M', 'phil_Y', 'phob_Y', 'phil_C', 'phob_C', 'phil_S',\n",
      "       'phob_S', 'phil_T', 'phob_T', 'phil_R', 'phob_R', 'phil_K', 'phob_K',\n",
      "       'phil_N', 'phob_N', 'phil_Q', 'phob_Q', 'phil_D', 'phob_D', 'phil_E',\n",
      "       'phob_E', 'phil_H', 'phob_H', 'phil_P', 'phob_P'],\n",
      "      dtype='object')\n",
      "Index(['phil_A', 'phil_G', 'phil_V', 'phil_L', 'phil_I', 'phil_F', 'phil_W',\n",
      "       'phil_M', 'phil_Y', 'phil_C', 'phil_S', 'phil_T', 'phil_R', 'phil_K',\n",
      "       'phil_N', 'phil_Q', 'phil_D', 'phil_E', 'phil_H', 'phil_P'],\n",
      "      dtype='object')\n",
      "Index(['phob_A', 'phob_G', 'phob_V', 'phob_L', 'phob_I', 'phob_F', 'phob_W',\n",
      "       'phob_M', 'phob_Y', 'phob_C', 'phob_S', 'phob_T', 'phob_R', 'phob_K',\n",
      "       'phob_N', 'phob_Q', 'phob_D', 'phob_E', 'phob_H', 'phob_P'],\n",
      "      dtype='object')\n"
     ]
    }
   ],
   "source": [
    "# column definitions\n",
    "columns_heliquet =  df.columns[-5:]\n",
    "print(columns_heliquet)\n",
    "columns_AAcomp = df.columns[6:-5]\n",
    "print(columns_AAcomp)\n",
    "columns_AAcomp_phil = columns_AAcomp[list(range(0, len(columns_AAcomp), 2))]\n",
    "print(columns_AAcomp_phil)\n",
    "columns_AAcomp_phob = columns_AAcomp[list(range(1, len(columns_AAcomp), 2))]\n",
    "print(columns_AAcomp_phob)"
   ]
  },
  {
   "cell_type": "code",
   "execution_count": 7,
   "metadata": {},
   "outputs": [],
   "source": [
    "# Function to plot each graph\n",
    "def plot_correlation(df, x, y, ax):\n",
    "    correlation_coefficient = df[x].corr(df[y])\n",
    "    \n",
    "    sns.scatterplot(x=df[x], y=df[y], ax=ax)\n",
    "    ax.set_xlabel(x)\n",
    "    ax.set_ylabel(y)\n",
    "    ax.set_title(f'Correlation between {x} and {y}')\n",
    "    \n",
    "    # Annotate the correlation coefficient\n",
    "    ax.text(0.95, 0.7, f'Corr. Coeff.: {correlation_coefficient:.2f}', \n",
    "            transform=ax.transAxes, fontsize=12, verticalalignment='bottom', \n",
    "            horizontalalignment='right', bbox=dict(facecolor='white', alpha=0.5))"
   ]
  },
  {
   "cell_type": "code",
   "execution_count": 8,
   "metadata": {},
   "outputs": [],
   "source": [
    "x_columns = columns_heliquet\n",
    "y_column = 'Median'\n",
    "\n",
    "# Generate the plots and save them to a single PDF file with 6 graphs per page\n",
    "with PdfPages('./Output/correlation_plots_helixparameters.pdf') as pdf:\n",
    "    for i in range(0, len(x_columns), 6):\n",
    "        fig, axes = plt.subplots(2, 3, figsize=(20, 12))  # Create a 2x3 grid\n",
    "        axes = axes.flatten()  # Flatten the 2D array of axes\n",
    "        for ax, x in zip(axes, x_columns[i:i+6]):\n",
    "            plot_correlation(df, x, y_column, ax)\n",
    "        for ax in axes[len(x_columns[i:i+6]):]:\n",
    "            ax.remove()  # Remove any unused axes\n",
    "        pdf.savefig(fig)  # Save the current figure to the PDF\n",
    "        plt.close(fig)  # Close the figure to free memory"
   ]
  },
  {
   "cell_type": "code",
   "execution_count": 9,
   "metadata": {},
   "outputs": [],
   "source": [
    "x_columns = columns_AAcomp_phil\n",
    "y_column = 'Median'\n",
    "\n",
    "# Generate the plots and save them to a single PDF file with 6 graphs per page\n",
    "with PdfPages('./Output/correlation_plots_phil.pdf') as pdf:\n",
    "    for i in range(0, len(x_columns), 6):\n",
    "        fig, axes = plt.subplots(2, 3, figsize=(20, 12))  # Create a 2x3 grid\n",
    "        axes = axes.flatten()  # Flatten the 2D array of axes\n",
    "        for ax, x in zip(axes, x_columns[i:i+6]):\n",
    "            plot_correlation(df, x, y_column, ax)\n",
    "        for ax in axes[len(x_columns[i:i+6]):]:\n",
    "            ax.remove()  # Remove any unused axes\n",
    "        pdf.savefig(fig)  # Save the current figure to the PDF\n",
    "        plt.close(fig)  # Close the figure to free memory"
   ]
  },
  {
   "cell_type": "code",
   "execution_count": 10,
   "metadata": {},
   "outputs": [],
   "source": [
    "x_columns = columns_AAcomp_phob\n",
    "y_column = 'Median'\n",
    "\n",
    "# Generate the plots and save them to a single PDF file with 6 graphs per page\n",
    "with PdfPages('./Output/correlation_plots_phob.pdf') as pdf:\n",
    "    for i in range(0, len(x_columns), 6):\n",
    "        fig, axes = plt.subplots(2, 3, figsize=(20, 12))  # Create a 2x3 grid\n",
    "        axes = axes.flatten()  # Flatten the 2D array of axes\n",
    "        for ax, x in zip(axes, x_columns[i:i+6]):\n",
    "            plot_correlation(df, x, y_column, ax)\n",
    "        for ax in axes[len(x_columns[i:i+6]):]:\n",
    "            ax.remove()  # Remove any unused axes\n",
    "        pdf.savefig(fig)  # Save the current figure to the PDF\n",
    "        plt.close(fig)  # Close the figure to free memory"
   ]
  },
  {
   "cell_type": "markdown",
   "metadata": {},
   "source": [
    "#### Helix parameters excluding too long helices"
   ]
  },
  {
   "cell_type": "code",
   "execution_count": 11,
   "metadata": {},
   "outputs": [],
   "source": [
    "x_columns = columns_heliquet\n",
    "y_column = 'Median'\n",
    "df = df.copy()\n",
    "df = df[df['Length'] <= 30]\n",
    "\n",
    "# Generate the plots and save them to a single PDF file with 6 graphs per page\n",
    "with PdfPages('./Output/correlation_plots_helixparameters_excludingLongHelics.pdf') as pdf:\n",
    "    for i in range(0, len(x_columns), 6):\n",
    "        fig, axes = plt.subplots(2, 3, figsize=(20, 12))  # Create a 2x3 grid\n",
    "        axes = axes.flatten()  # Flatten the 2D array of axes\n",
    "        for ax, x in zip(axes, x_columns[i:i+6]):\n",
    "            plot_correlation(df, x, y_column, ax)\n",
    "        for ax in axes[len(x_columns[i:i+6]):]:\n",
    "            ax.remove()  # Remove any unused axes\n",
    "        pdf.savefig(fig)  # Save the current figure to the PDF\n",
    "        plt.close(fig)  # Close the figure to free memory"
   ]
  },
  {
   "cell_type": "code",
   "execution_count": null,
   "metadata": {},
   "outputs": [],
   "source": []
  }
 ],
 "metadata": {
  "kernelspec": {
   "display_name": "py312",
   "language": "python",
   "name": "python3"
  },
  "language_info": {
   "codemirror_mode": {
    "name": "ipython",
    "version": 3
   },
   "file_extension": ".py",
   "mimetype": "text/x-python",
   "name": "python",
   "nbconvert_exporter": "python",
   "pygments_lexer": "ipython3",
   "version": "3.12.9"
  }
 },
 "nbformat": 4,
 "nbformat_minor": 2
}
