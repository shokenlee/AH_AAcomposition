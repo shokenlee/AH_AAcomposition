{
 "cells": [
  {
   "cell_type": "code",
   "execution_count": 23,
   "metadata": {},
   "outputs": [],
   "source": [
    "import pandas as pd\n",
    "import matplotlib.pyplot as plt\n",
    "import seaborn as sns\n",
    "from matplotlib.backends.backend_pdf import PdfPages"
   ]
  },
  {
   "cell_type": "code",
   "execution_count": 2,
   "metadata": {},
   "outputs": [],
   "source": [
    "df = pd.read_csv('./Output/NEES_summary_with_heliquest.csv')"
   ]
  },
  {
   "cell_type": "code",
   "execution_count": 4,
   "metadata": {},
   "outputs": [],
   "source": [
    "df_extract = df[['Median', 'Length', 'Hydrophobicity', 'H_moment', 'Netcharge', 'Dfactor']]"
   ]
  },
  {
   "cell_type": "code",
   "execution_count": 5,
   "metadata": {},
   "outputs": [
    {
     "data": {
      "text/plain": [
       "Median            1.000000\n",
       "Hydrophobicity    0.284061\n",
       "Netcharge         0.048262\n",
       "Dfactor           0.025718\n",
       "Length            0.021208\n",
       "H_moment         -0.138342\n",
       "Name: Median, dtype: float64"
      ]
     },
     "execution_count": 5,
     "metadata": {},
     "output_type": "execute_result"
    }
   ],
   "source": [
    "# Calculate the correlation matrix\n",
    "correlation_matrix = df_extract.corr()\n",
    "\n",
    "# Extract the correlation coefficients for the 'Median' and 'Mean' columns\n",
    "correlation_with_median = correlation_matrix['Median'].sort_values(ascending=False)\n",
    "\n",
    "# Display the correlation coefficients\n",
    "correlation_with_median"
   ]
  },
  {
   "cell_type": "code",
   "execution_count": 25,
   "metadata": {},
   "outputs": [],
   "source": [
    "# Function to plot each graph\n",
    "def plot_correlation(df, x, y, ax):\n",
    "    correlation_coefficient = df[x].corr(df[y])\n",
    "    \n",
    "    sns.scatterplot(x=df[x], y=df[y], ax=ax)\n",
    "    ax.set_xlabel(x)\n",
    "    ax.set_ylabel(y)\n",
    "    ax.set_title(f'Correlation between {x} and {y}')\n",
    "    \n",
    "    # Annotate the correlation coefficient\n",
    "    plt.text(0.2, 3, f\"Correlation coefficient: \" +  str(round(correlation_coefficient, 3)))\n",
    "\n",
    "x_columns = ['Length', 'Hydrophobicity', 'H_moment', 'Netcharge', 'Dfactor']\n",
    "y_column = 'Median'\n",
    "\n",
    "# Generate the plots and save them to a single PDF file\n",
    "with PdfPages('correlation_plots.pdf') as pdf:\n",
    "    for x in x_columns:\n",
    "        fig, ax = plt.subplots(figsize=(6, 6))\n",
    "        plot_correlation(df_extract, x, y_column, ax)\n",
    "        pdf.savefig(fig)  # Save the current figure to the PDF\n",
    "        plt.close(fig)  # Close the figure to free memory"
   ]
  },
  {
   "cell_type": "code",
   "execution_count": null,
   "metadata": {},
   "outputs": [],
   "source": []
  }
 ],
 "metadata": {
  "kernelspec": {
   "display_name": "py311",
   "language": "python",
   "name": "python3"
  },
  "language_info": {
   "codemirror_mode": {
    "name": "ipython",
    "version": 3
   },
   "file_extension": ".py",
   "mimetype": "text/x-python",
   "name": "python",
   "nbconvert_exporter": "python",
   "pygments_lexer": "ipython3",
   "version": "3.11.5"
  }
 },
 "nbformat": 4,
 "nbformat_minor": 2
}
