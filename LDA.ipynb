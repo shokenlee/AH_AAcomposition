{
 "cells": [
  {
   "cell_type": "code",
   "execution_count": 2,
   "id": "3d27e318-f526-495d-b5b4-8bf0bc1b84d2",
   "metadata": {
    "tags": []
   },
   "outputs": [],
   "source": [
    "import pandas as pd"
   ]
  },
  {
   "cell_type": "code",
   "execution_count": 1,
   "id": "f0b4ea88-df5a-4d61-bb1a-eb7255b5d54a",
   "metadata": {
    "tags": []
   },
   "outputs": [],
   "source": [
    "from sklearn.discriminant_analysis import LinearDiscriminantAnalysis"
   ]
  },
  {
   "cell_type": "code",
   "execution_count": 3,
   "id": "094e95bd-1c1e-49a2-bf9f-fad5709dcd8a",
   "metadata": {
    "tags": []
   },
   "outputs": [],
   "source": [
    "df = pd.read_csv('./Output/entiresheet.csv')"
   ]
  },
  {
   "cell_type": "code",
   "execution_count": 4,
   "id": "10c6c580-63fc-4e73-840d-da52c0646a11",
   "metadata": {
    "tags": []
   },
   "outputs": [
    {
     "data": {
      "text/plain": [
       "Index(['Gene_name', 'AH_seq', 'AH_localization', 'Group', 'phil_A', 'phob_A',\n",
       "       'phil_G', 'phob_G', 'phil_V', 'phob_V', 'phil_L', 'phob_L', 'phil_I',\n",
       "       'phob_I', 'phil_F', 'phob_F', 'phil_W', 'phob_W', 'phil_M', 'phob_M',\n",
       "       'phil_Y', 'phob_Y', 'phil_C', 'phob_C', 'phil_S', 'phob_S', 'phil_T',\n",
       "       'phob_T', 'phil_R', 'phob_R', 'phil_K', 'phob_K', 'phil_N', 'phob_N',\n",
       "       'phil_Q', 'phob_Q', 'phil_D', 'phob_D', 'phil_E', 'phob_E', 'phil_H',\n",
       "       'phob_H', 'phil_P', 'phob_P', 'Length', 'Hydrophobicity', 'H_moment',\n",
       "       'Netcharge', 'Dfactor'],\n",
       "      dtype='object')"
      ]
     },
     "execution_count": 4,
     "metadata": {},
     "output_type": "execute_result"
    }
   ],
   "source": [
    "df.columns"
   ]
  },
  {
   "cell_type": "code",
   "execution_count": 27,
   "id": "fc6c0b87-8fa0-4f76-962a-1860f4d1447f",
   "metadata": {
    "tags": []
   },
   "outputs": [],
   "source": [
    "df = df[df.Group != 4]"
   ]
  },
  {
   "cell_type": "code",
   "execution_count": 28,
   "id": "295d850a-84e8-4633-ae81-b05a6156ee70",
   "metadata": {
    "tags": []
   },
   "outputs": [],
   "source": [
    "df_1 = df[['Group', 'phil_A', 'phil_G', 'phil_V', 'phil_L', 'phil_I',\n",
    "       'phil_F', 'phil_W', 'phil_M', 'phil_Y', 'phil_C', 'phil_S', \n",
    "       'phil_T', 'phil_R', 'phil_K', 'phil_N', 'phil_Q', 'phil_D', \n",
    "       'phil_E', 'phil_H', 'phil_P']]"
   ]
  },
  {
   "cell_type": "code",
   "execution_count": 18,
   "id": "015885a6-ceb3-4353-be60-96a312d733c3",
   "metadata": {
    "tags": []
   },
   "outputs": [],
   "source": [
    "df_sub = df[['Group', 'phil_A', 'phob_A',\n",
    "       'phil_G', 'phob_G', 'phil_V', 'phob_V', 'phil_L', 'phob_L', 'phil_I',\n",
    "       'phob_I', 'phil_F', 'phob_F', 'phil_W', 'phob_W', 'phil_M', 'phob_M',\n",
    "       'phil_Y', 'phob_Y', 'phil_C', 'phob_C', 'phil_S', 'phob_S', 'phil_T',\n",
    "       'phob_T', 'phil_R', 'phob_R', 'phil_K', 'phob_K', 'phil_N', 'phob_N',\n",
    "       'phil_Q', 'phob_Q', 'phil_D', 'phob_D', 'phil_E', 'phob_E', 'phil_H',\n",
    "       'phob_H', 'phil_P', 'phob_P']]"
   ]
  },
  {
   "cell_type": "code",
   "execution_count": 20,
   "id": "22fe4133-1751-43c7-bb92-06aa363e5641",
   "metadata": {
    "tags": []
   },
   "outputs": [],
   "source": [
    "df_sub.loc[:, 'phil_LI'] = df_sub.phil_I + df_sub.phil_L\n",
    "df_sub['phil_FY'] = df_sub.phil_F + df_sub.phil_Y\n",
    "df_sub['phil_ST'] = df_sub.phil_S + df_sub.phil_T\n",
    "df_sub['phil_RK'] = df_sub.phil_R + df_sub.phil_K\n",
    "df_sub['phil_DE'] = df_sub.phil_D + df_sub.phil_E\n",
    "df_sub['phil_NQ'] = df_sub.phil_N + df_sub.phil_Q"
   ]
  },
  {
   "cell_type": "code",
   "execution_count": 21,
   "id": "9ff706cd-c800-4000-8eb6-ff8db2f7d300",
   "metadata": {
    "tags": []
   },
   "outputs": [],
   "source": [
    "df_sub = df_sub[['Group', 'phil_A', 'phil_G', 'phil_V',\n",
    "       'phil_W', 'phil_M', 'phil_C', 'phil_H', 'phil_P', 'phil_LI',\n",
    "       'phil_FY', 'phil_ST', 'phil_RK', 'phil_DE', 'phil_NQ']]"
   ]
  },
  {
   "cell_type": "code",
   "execution_count": 24,
   "id": "a9ad887a-8db4-4701-a87f-0664cca34e57",
   "metadata": {
    "collapsed": true,
    "jupyter": {
     "outputs_hidden": true
    },
    "tags": []
   },
   "outputs": [
    {
     "data": {
      "text/plain": [
       "Gene_name                        KDSR\n",
       "AH_seq             GLFRTIALFYLGSFDSIV\n",
       "AH_localization           Golgi/ER/NE\n",
       "Group                               1\n",
       "phil_A                            0.0\n",
       "phob_A                           0.11\n",
       "phil_G                           0.22\n",
       "phob_G                            0.0\n",
       "phil_V                           0.11\n",
       "phob_V                            0.0\n",
       "phil_L                           0.22\n",
       "phob_L                           0.11\n",
       "phil_I                            0.0\n",
       "phob_I                           0.22\n",
       "phil_F                            0.0\n",
       "phob_F                           0.33\n",
       "phil_W                            0.0\n",
       "phob_W                            0.0\n",
       "phil_M                            0.0\n",
       "phob_M                            0.0\n",
       "phil_Y                            0.0\n",
       "phob_Y                           0.11\n",
       "phil_C                            0.0\n",
       "phob_C                            0.0\n",
       "phil_S                           0.11\n",
       "phob_S                           0.11\n",
       "phil_T                           0.11\n",
       "phob_T                            0.0\n",
       "phil_R                           0.11\n",
       "phob_R                            0.0\n",
       "phil_K                            0.0\n",
       "phob_K                            0.0\n",
       "phil_N                            0.0\n",
       "phob_N                            0.0\n",
       "phil_Q                            0.0\n",
       "phob_Q                            0.0\n",
       "phil_D                           0.11\n",
       "phob_D                            0.0\n",
       "phil_E                            0.0\n",
       "phob_E                            0.0\n",
       "phil_H                            0.0\n",
       "phob_H                            0.0\n",
       "phil_P                            0.0\n",
       "phob_P                            0.0\n",
       "Length                           18.0\n",
       "Hydrophobicity                  0.831\n",
       "H_moment                     0.363703\n",
       "Netcharge                         0.0\n",
       "Dfactor                         0.343\n",
       "Name: 0, dtype: object"
      ]
     },
     "execution_count": 24,
     "metadata": {},
     "output_type": "execute_result"
    }
   ],
   "source": [
    "df.loc[0, :]"
   ]
  },
  {
   "cell_type": "code",
   "execution_count": 22,
   "id": "7d3b9e47-08ef-41b5-bfb8-7aa5e991d2b7",
   "metadata": {
    "tags": []
   },
   "outputs": [
    {
     "data": {
      "text/html": [
       "<div>\n",
       "<style scoped>\n",
       "    .dataframe tbody tr th:only-of-type {\n",
       "        vertical-align: middle;\n",
       "    }\n",
       "\n",
       "    .dataframe tbody tr th {\n",
       "        vertical-align: top;\n",
       "    }\n",
       "\n",
       "    .dataframe thead th {\n",
       "        text-align: right;\n",
       "    }\n",
       "</style>\n",
       "<table border=\"1\" class=\"dataframe\">\n",
       "  <thead>\n",
       "    <tr style=\"text-align: right;\">\n",
       "      <th></th>\n",
       "      <th>Group</th>\n",
       "      <th>phil_A</th>\n",
       "      <th>phil_G</th>\n",
       "      <th>phil_V</th>\n",
       "      <th>phil_W</th>\n",
       "      <th>phil_M</th>\n",
       "      <th>phil_C</th>\n",
       "      <th>phil_H</th>\n",
       "      <th>phil_P</th>\n",
       "      <th>phil_LI</th>\n",
       "      <th>phil_FY</th>\n",
       "      <th>phil_ST</th>\n",
       "      <th>phil_RK</th>\n",
       "      <th>phil_DE</th>\n",
       "      <th>phil_NQ</th>\n",
       "    </tr>\n",
       "  </thead>\n",
       "  <tbody>\n",
       "    <tr>\n",
       "      <th>0</th>\n",
       "      <td>1</td>\n",
       "      <td>0.0</td>\n",
       "      <td>0.22</td>\n",
       "      <td>0.11</td>\n",
       "      <td>0.0</td>\n",
       "      <td>0.0</td>\n",
       "      <td>0.0</td>\n",
       "      <td>0.0</td>\n",
       "      <td>0.0</td>\n",
       "      <td>0.22</td>\n",
       "      <td>0.0</td>\n",
       "      <td>0.22</td>\n",
       "      <td>0.11</td>\n",
       "      <td>0.11</td>\n",
       "      <td>0.0</td>\n",
       "    </tr>\n",
       "    <tr>\n",
       "      <th>1</th>\n",
       "      <td>1</td>\n",
       "      <td>0.2</td>\n",
       "      <td>0.00</td>\n",
       "      <td>0.00</td>\n",
       "      <td>0.1</td>\n",
       "      <td>0.0</td>\n",
       "      <td>0.0</td>\n",
       "      <td>0.0</td>\n",
       "      <td>0.0</td>\n",
       "      <td>0.00</td>\n",
       "      <td>0.0</td>\n",
       "      <td>0.30</td>\n",
       "      <td>0.10</td>\n",
       "      <td>0.10</td>\n",
       "      <td>0.2</td>\n",
       "    </tr>\n",
       "    <tr>\n",
       "      <th>2</th>\n",
       "      <td>1</td>\n",
       "      <td>0.2</td>\n",
       "      <td>0.00</td>\n",
       "      <td>0.00</td>\n",
       "      <td>0.0</td>\n",
       "      <td>0.0</td>\n",
       "      <td>0.0</td>\n",
       "      <td>0.0</td>\n",
       "      <td>0.0</td>\n",
       "      <td>0.00</td>\n",
       "      <td>0.2</td>\n",
       "      <td>0.20</td>\n",
       "      <td>0.20</td>\n",
       "      <td>0.20</td>\n",
       "      <td>0.0</td>\n",
       "    </tr>\n",
       "    <tr>\n",
       "      <th>3</th>\n",
       "      <td>1</td>\n",
       "      <td>0.0</td>\n",
       "      <td>0.00</td>\n",
       "      <td>0.00</td>\n",
       "      <td>0.0</td>\n",
       "      <td>0.0</td>\n",
       "      <td>0.0</td>\n",
       "      <td>0.0</td>\n",
       "      <td>0.0</td>\n",
       "      <td>0.00</td>\n",
       "      <td>0.0</td>\n",
       "      <td>0.66</td>\n",
       "      <td>0.33</td>\n",
       "      <td>0.00</td>\n",
       "      <td>0.0</td>\n",
       "    </tr>\n",
       "    <tr>\n",
       "      <th>4</th>\n",
       "      <td>1</td>\n",
       "      <td>0.0</td>\n",
       "      <td>0.00</td>\n",
       "      <td>0.00</td>\n",
       "      <td>0.0</td>\n",
       "      <td>0.0</td>\n",
       "      <td>0.0</td>\n",
       "      <td>0.0</td>\n",
       "      <td>0.0</td>\n",
       "      <td>0.00</td>\n",
       "      <td>0.0</td>\n",
       "      <td>0.50</td>\n",
       "      <td>0.25</td>\n",
       "      <td>0.25</td>\n",
       "      <td>0.0</td>\n",
       "    </tr>\n",
       "  </tbody>\n",
       "</table>\n",
       "</div>"
      ],
      "text/plain": [
       "   Group  phil_A  phil_G  phil_V  phil_W  phil_M  phil_C  phil_H  phil_P  \\\n",
       "0      1     0.0    0.22    0.11     0.0     0.0     0.0     0.0     0.0   \n",
       "1      1     0.2    0.00    0.00     0.1     0.0     0.0     0.0     0.0   \n",
       "2      1     0.2    0.00    0.00     0.0     0.0     0.0     0.0     0.0   \n",
       "3      1     0.0    0.00    0.00     0.0     0.0     0.0     0.0     0.0   \n",
       "4      1     0.0    0.00    0.00     0.0     0.0     0.0     0.0     0.0   \n",
       "\n",
       "   phil_LI  phil_FY  phil_ST  phil_RK  phil_DE  phil_NQ  \n",
       "0     0.22      0.0     0.22     0.11     0.11      0.0  \n",
       "1     0.00      0.0     0.30     0.10     0.10      0.2  \n",
       "2     0.00      0.2     0.20     0.20     0.20      0.0  \n",
       "3     0.00      0.0     0.66     0.33     0.00      0.0  \n",
       "4     0.00      0.0     0.50     0.25     0.25      0.0  "
      ]
     },
     "execution_count": 22,
     "metadata": {},
     "output_type": "execute_result"
    }
   ],
   "source": [
    "df_sub.head()"
   ]
  },
  {
   "cell_type": "code",
   "execution_count": 31,
   "id": "e820b615-65b3-4a04-acd0-9501cf30ebd6",
   "metadata": {
    "tags": []
   },
   "outputs": [],
   "source": [
    "from sklearn.preprocessing import StandardScaler\n",
    "import matplotlib.pyplot as plt\n",
    "\n",
    "# Standardize the data\n",
    "data = df_1\n",
    "features = data.columns[1:]\n",
    "x = data.loc[:, features].values\n",
    "y = data.loc[:, 'Group'].values\n",
    "x = StandardScaler().fit_transform(x)"
   ]
  },
  {
   "cell_type": "code",
   "execution_count": 32,
   "id": "5053421d-059c-410b-9007-3e9ed0ba2f43",
   "metadata": {
    "tags": []
   },
   "outputs": [
    {
     "data": {
      "image/png": "[encoded data removed]",
      "text/plain": [
       "<Figure size 800x600 with 1 Axes>"
      ]
     },
     "metadata": {},
     "output_type": "display_data"
    }
   ],
   "source": [
    "from sklearn.discriminant_analysis import LinearDiscriminantAnalysis\n",
    "\n",
    "# Perform LDA\n",
    "lda = LinearDiscriminantAnalysis(n_components=2)\n",
    "lda_components = lda.fit_transform(x, y)\n",
    "lda_df = pd.DataFrame(data=lda_components, columns=['Linear Discriminant 1', 'Linear Discriminant 2'])\n",
    "lda_df['Group'] = y\n",
    "\n",
    "# Plot LDA results\n",
    "plt.figure(figsize=(8, 6))\n",
    "for group in lda_df['Group'].unique():\n",
    "    indices = lda_df['Group'] == group\n",
    "    plt.scatter(lda_df.loc[indices, 'Linear Discriminant 1'],\n",
    "                lda_df.loc[indices, 'Linear Discriminant 2'],\n",
    "                label=f'Group {group}')\n",
    "plt.xlabel('Linear Discriminant 1')\n",
    "plt.ylabel('Linear Discriminant 2')\n",
    "plt.title('LDA: Linear Discriminants')\n",
    "plt.legend()\n",
    "plt.show()"
   ]
  },
  {
   "cell_type": "code",
   "execution_count": 33,
   "id": "b6ee2afe-ad92-413c-9b72-d84c5f10a242",
   "metadata": {
    "tags": []
   },
   "outputs": [
    {
     "name": "stdout",
     "output_type": "stream",
     "text": [
      "        Linear Discriminant 1  Linear Discriminant 2\n",
      "phil_A              -5.972735              -5.538354\n",
      "phil_G              -5.510509              -4.836733\n",
      "phil_V              -2.836771              -2.842332\n",
      "phil_L              -6.347612              -5.602009\n",
      "phil_I              -2.245231              -3.261457\n",
      "phil_F              -5.150605              -5.809356\n",
      "phil_W              -2.721947              -1.929691\n",
      "phil_M              -2.213887              -3.160655\n",
      "phil_Y              -5.220209              -3.902936\n",
      "phil_C              -2.514484              -2.173164\n",
      "phil_S              -9.554422              -8.305826\n",
      "phil_T              -6.538826              -6.462983\n",
      "phil_R             -12.406845             -11.762676\n",
      "phil_K              -7.951462              -6.825610\n",
      "phil_N              -3.209181              -3.210219\n",
      "phil_Q              -6.881135              -6.813584\n",
      "phil_D              -5.210913              -5.523085\n",
      "phil_E              -5.652510              -6.008255\n",
      "phil_H              -4.043508              -3.745064\n",
      "phil_P              -4.320653              -4.111268\n"
     ]
    }
   ],
   "source": [
    "lda_coefficients = pd.DataFrame(lda.scalings_, columns=['Linear Discriminant 1', 'Linear Discriminant 2'], index=features)\n",
    "\n",
    "# Displaying the LDA coefficients\n",
    "print(lda_coefficients)"
   ]
  },
  {
   "cell_type": "code",
   "execution_count": 35,
   "id": "8fece0c5-4017-438c-99c8-8916e4ff27b4",
   "metadata": {
    "tags": []
   },
   "outputs": [
    {
     "data": {
      "image/png": "[encoded data removed]",
      "text/plain": [
       "<Figure size 800x600 with 1 Axes>"
      ]
     },
     "metadata": {},
     "output_type": "display_data"
    }
   ],
   "source": [
    "from sklearn.decomposition import PCA\n",
    "\n",
    "# Perform PCA\n",
    "pca = PCA(n_components=2)\n",
    "principal_components = pca.fit_transform(x)\n",
    "principal_df = pd.DataFrame(data=principal_components, columns=['Principal Component 1', 'Principal Component 2'])\n",
    "principal_df['Group'] = y\n",
    "\n",
    "# Plot PCA results\n",
    "plt.figure(figsize=(8, 6))\n",
    "for group in principal_df['Group'].unique():\n",
    "    indices = principal_df['Group'] == group\n",
    "    plt.scatter(principal_df.loc[indices, 'Principal Component 1'],\n",
    "                principal_df.loc[indices, 'Principal Component 2'],\n",
    "                label=f'Group {group}')\n",
    "plt.xlabel('Principal Component 1')\n",
    "plt.ylabel('Principal Component 2')\n",
    "plt.title('PCA: Principal Components')\n",
    "plt.legend()\n",
    "plt.show()"
   ]
  },
  {
   "cell_type": "code",
   "execution_count": null,
   "id": "d4dbf719-7803-4bc9-89bb-aab8ddbcab7b",
   "metadata": {},
   "outputs": [],
   "source": []
  }
 ],
 "metadata": {
  "kernelspec": {
   "display_name": "Python 3 (ipykernel)",
   "language": "python",
   "name": "python3"
  },
  "language_info": {
   "codemirror_mode": {
    "name": "ipython",
    "version": 3
   },
   "file_extension": ".py",
   "mimetype": "text/x-python",
   "name": "python",
   "nbconvert_exporter": "python",
   "pygments_lexer": "ipython3",
   "version": "3.11.4"
  }
 },
 "nbformat": 4,
 "nbformat_minor": 5
}
