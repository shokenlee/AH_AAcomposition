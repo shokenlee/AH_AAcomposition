{
 "cells": [
  {
   "cell_type": "code",
   "execution_count": 1,
   "metadata": {},
   "outputs": [],
   "source": [
    "import pandas as pd\n",
    "\n",
    "df_nees = pd.read_excel('./SourceData/NEES.xlsx')"
   ]
  },
  {
   "cell_type": "code",
   "execution_count": 3,
   "metadata": {},
   "outputs": [],
   "source": [
    "# Calculate the median value of \"NoAH\" column\n",
    "median_noah = df_nees['NoAH'].median()\n",
    "# Normalize the values in all columns by dividing by the median of NoAH\n",
    "df_nees_normalized = df_nees.copy()\n",
    "for column in df_nees.columns:\n",
    "    df_nees_normalized[column] = df_nees[column] / median_noah\n",
    "\n",
    "# Save the normalized DataFrame to a new csv file\n",
    "df_nees_normalized.to_csv('./Output/NEES_Normalized.csv', index=False)"
   ]
  },
  {
   "cell_type": "code",
   "execution_count": 10,
   "metadata": {},
   "outputs": [],
   "source": [
    "median_series = df_nees_normalized.median()\n",
    "mean_series = df_nees_normalized.mean()\n",
    "\n",
    "transposed_df_nees_normalized = pd.DataFrame({'AH': df_nees_normalized.columns, 'Median': median_series, 'Mean': mean_series})\n",
    "transposed_df_nees_normalized.reset_index(drop=True, inplace=True)"
   ]
  },
  {
   "cell_type": "code",
   "execution_count": 11,
   "metadata": {},
   "outputs": [],
   "source": [
    "transposed_df_nees_normalized.to_csv('./Output/NEES_summary.csv', index=False)"
   ]
  },
  {
   "cell_type": "code",
   "execution_count": null,
   "metadata": {},
   "outputs": [],
   "source": []
  },
  {
   "cell_type": "code",
   "execution_count": null,
   "metadata": {},
   "outputs": [],
   "source": []
  }
 ],
 "metadata": {
  "kernelspec": {
   "display_name": "py312",
   "language": "python",
   "name": "python3"
  },
  "language_info": {
   "codemirror_mode": {
    "name": "ipython",
    "version": 3
   },
   "file_extension": ".py",
   "mimetype": "text/x-python",
   "name": "python",
   "nbconvert_exporter": "python",
   "pygments_lexer": "ipython3",
   "version": "3.12.9"
  }
 },
 "nbformat": 4,
 "nbformat_minor": 2
}
